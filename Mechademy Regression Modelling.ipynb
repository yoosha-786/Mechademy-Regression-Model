{
 "cells": [
  {
   "cell_type": "markdown",
   "metadata": {},
   "source": [
    "### import the packages"
   ]
  },
  {
   "cell_type": "code",
   "execution_count": 56,
   "metadata": {},
   "outputs": [],
   "source": [
    "import pandas as pd\n",
    "import numpy as np\n",
    "import matplotlib.pyplot as plt\n",
    "import seaborn as sns\n",
    "\n",
    "\n",
    "import scipy.stats as stats\n",
    "import sklearn as sk\n",
    "import statsmodels as sm\n",
    "%matplotlib inline\n",
    "\n",
    "plt.rcParams['figure.figsize'] = 6, 4\n",
    "plt.rcParams['axes.grid'] = True"
   ]
  },
  {
   "cell_type": "code",
   "execution_count": 2,
   "metadata": {},
   "outputs": [],
   "source": [
    "import pandas_profiling "
   ]
  },
  {
   "cell_type": "code",
   "execution_count": 57,
   "metadata": {},
   "outputs": [],
   "source": [
    "import statsmodels.formula.api as smf\n",
    "from sklearn.model_selection import train_test_split\n",
    "from sklearn.linear_model import LinearRegression\n",
    "from sklearn.metrics import mean_absolute_error, mean_squared_error, r2_score"
   ]
  },
  {
   "cell_type": "markdown",
   "metadata": {},
   "source": [
    "### create UDFs"
   ]
  },
  {
   "cell_type": "code",
   "execution_count": 58,
   "metadata": {},
   "outputs": [],
   "source": [
    "# Create Data audit Report for continuous variables\n",
    "\n",
    "def continuous_var_summary(x):\n",
    "    return pd.Series([x.count(), x.isnull().sum(), x.sum(), x.mean(), x.median(),  \n",
    "                      x.std(), x.var(), x.min(), x.quantile(0.01), x.quantile(0.05),\n",
    "                          x.quantile(0.10),x.quantile(0.25),x.quantile(0.50),x.quantile(0.75), \n",
    "                              x.quantile(0.90),x.quantile(0.95), x.quantile(0.99),x.max()], \n",
    "                  index = ['N', 'NMISS', 'SUM', 'MEAN','MEDIAN', 'STD', 'VAR', 'MIN', 'P1', \n",
    "                               'P5' ,'P10' ,'P25' ,'P50' ,'P75' ,'P90' ,'P95' ,'P99' ,'MAX'])"
   ]
  },
  {
   "cell_type": "code",
   "execution_count": 59,
   "metadata": {},
   "outputs": [],
   "source": [
    "# Create Data audit Report for categorical variables\n",
    "\n",
    "def categorical_var_summary(x):\n",
    "    Mode = x.value_counts().sort_values(ascending = False)[0:1].reset_index()\n",
    "    return pd.Series([x.count(), x.isnull().sum(), Mode.iloc[0, 0], Mode.iloc[0, 1], \n",
    "                          round(Mode.iloc[0, 1] * 100/x.count(), 2)], \n",
    "                  index = ['N', 'NMISS', 'MODE', 'FREQ', 'PERCENT'])"
   ]
  },
  {
   "cell_type": "code",
   "execution_count": 60,
   "metadata": {},
   "outputs": [],
   "source": [
    "# Missing value imputation for categorical and continuous variables\n",
    "\n",
    "def missing_imputation(x, stats = 'mean'):\n",
    "    if (x.dtypes == 'float64') | (x.dtypes == 'int64'):\n",
    "        x = x.fillna(x.mean()) if stats == 'mean' else x.fillna(x.median())\n",
    "    else:\n",
    "        x = x.fillna(x.mode())\n",
    "    return x"
   ]
  },
  {
   "cell_type": "code",
   "execution_count": 61,
   "metadata": {},
   "outputs": [],
   "source": [
    "# An utility function to create dummy variable\n",
    "\n",
    "def create_dummies(df, colname):\n",
    "    col_dummies = pd.get_dummies(df[colname], prefix = colname, drop_first = True)\n",
    "    df = pd.concat([df, col_dummies], axis = 1)\n",
    "    df.drop(colname, axis = 1, inplace = True )\n",
    "    return df"
   ]
  },
  {
   "cell_type": "markdown",
   "metadata": {},
   "source": [
    "### import data"
   ]
  },
  {
   "cell_type": "code",
   "execution_count": 62,
   "metadata": {},
   "outputs": [],
   "source": [
    "data = pd.read_csv('C:/Users/yoosha/Downloads/Expander_data.csv')"
   ]
  },
  {
   "cell_type": "markdown",
   "metadata": {},
   "source": [
    "### data inspection"
   ]
  },
  {
   "cell_type": "code",
   "execution_count": 63,
   "metadata": {},
   "outputs": [
    {
     "name": "stdout",
     "output_type": "stream",
     "text": [
      "<class 'pandas.core.frame.DataFrame'>\n",
      "RangeIndex: 296450 entries, 0 to 296449\n",
      "Data columns (total 9 columns):\n",
      "Timestamp                     296450 non-null object\n",
      "Suction Pressure (psig)       296450 non-null float64\n",
      "Suction Temperature (F)       296450 non-null float64\n",
      "Total Flow (gpm)              296450 non-null float64\n",
      "Speed (rpm)                   296450 non-null float64\n",
      "By-pass Valve Position (%)    296450 non-null float64\n",
      "Discharge Pressure (psig)     296450 non-null float64\n",
      "Discharge Temperature (F)     296450 non-null float64\n",
      "Run Status                    0 non-null float64\n",
      "dtypes: float64(8), object(1)\n",
      "memory usage: 20.4+ MB\n"
     ]
    }
   ],
   "source": [
    "data.info()"
   ]
  },
  {
   "cell_type": "code",
   "execution_count": 13,
   "metadata": {},
   "outputs": [],
   "source": [
    "# profiling using pandas profiling\n",
    "\n",
    "report = pandas_profiling.ProfileReport(data)"
   ]
  },
  {
   "cell_type": "code",
   "execution_count": 14,
   "metadata": {},
   "outputs": [],
   "source": [
    "# exporting the file as html\n",
    "\n",
    "report.to_file(output_file = 'profilereport.html')"
   ]
  },
  {
   "cell_type": "code",
   "execution_count": 64,
   "metadata": {},
   "outputs": [],
   "source": [
    "# seperate categorical and continuous variables\n",
    "\n",
    "data_conti_vars = data.loc[:, (data.dtypes == 'float64') | (data.dtypes == 'int64')]\n",
    "data_cat_vars = data.loc[:, (data.dtypes == 'object')]"
   ]
  },
  {
   "cell_type": "code",
   "execution_count": 65,
   "metadata": {},
   "outputs": [
    {
     "data": {
      "text/html": [
       "<div>\n",
       "<style scoped>\n",
       "    .dataframe tbody tr th:only-of-type {\n",
       "        vertical-align: middle;\n",
       "    }\n",
       "\n",
       "    .dataframe tbody tr th {\n",
       "        vertical-align: top;\n",
       "    }\n",
       "\n",
       "    .dataframe thead th {\n",
       "        text-align: right;\n",
       "    }\n",
       "</style>\n",
       "<table border=\"1\" class=\"dataframe\">\n",
       "  <thead>\n",
       "    <tr style=\"text-align: right;\">\n",
       "      <th></th>\n",
       "      <th>N</th>\n",
       "      <th>NMISS</th>\n",
       "      <th>SUM</th>\n",
       "      <th>MEAN</th>\n",
       "      <th>MEDIAN</th>\n",
       "      <th>STD</th>\n",
       "      <th>VAR</th>\n",
       "      <th>MIN</th>\n",
       "      <th>P1</th>\n",
       "      <th>P5</th>\n",
       "      <th>P10</th>\n",
       "      <th>P25</th>\n",
       "      <th>P50</th>\n",
       "      <th>P75</th>\n",
       "      <th>P90</th>\n",
       "      <th>P95</th>\n",
       "      <th>P99</th>\n",
       "      <th>MAX</th>\n",
       "    </tr>\n",
       "  </thead>\n",
       "  <tbody>\n",
       "    <tr>\n",
       "      <th>Suction Pressure (psig)</th>\n",
       "      <td>296450.0</td>\n",
       "      <td>0.0</td>\n",
       "      <td>1.750660e+08</td>\n",
       "      <td>590.5</td>\n",
       "      <td>586.5</td>\n",
       "      <td>23.2</td>\n",
       "      <td>539.0</td>\n",
       "      <td>552.4</td>\n",
       "      <td>553.8</td>\n",
       "      <td>557.5</td>\n",
       "      <td>560.7</td>\n",
       "      <td>572.8</td>\n",
       "      <td>586.5</td>\n",
       "      <td>606.0</td>\n",
       "      <td>624.4</td>\n",
       "      <td>632.8</td>\n",
       "      <td>643.2</td>\n",
       "      <td>649.2</td>\n",
       "    </tr>\n",
       "    <tr>\n",
       "      <th>Suction Temperature (F)</th>\n",
       "      <td>296450.0</td>\n",
       "      <td>0.0</td>\n",
       "      <td>-6.864742e+07</td>\n",
       "      <td>-231.6</td>\n",
       "      <td>-230.9</td>\n",
       "      <td>3.6</td>\n",
       "      <td>12.8</td>\n",
       "      <td>-238.6</td>\n",
       "      <td>-238.4</td>\n",
       "      <td>-237.8</td>\n",
       "      <td>-236.1</td>\n",
       "      <td>-234.2</td>\n",
       "      <td>-230.9</td>\n",
       "      <td>-229.6</td>\n",
       "      <td>-226.5</td>\n",
       "      <td>-224.8</td>\n",
       "      <td>-223.7</td>\n",
       "      <td>-223.4</td>\n",
       "    </tr>\n",
       "    <tr>\n",
       "      <th>Total Flow (gpm)</th>\n",
       "      <td>296450.0</td>\n",
       "      <td>0.0</td>\n",
       "      <td>2.407150e+09</td>\n",
       "      <td>8119.9</td>\n",
       "      <td>8144.2</td>\n",
       "      <td>398.0</td>\n",
       "      <td>158443.4</td>\n",
       "      <td>7056.0</td>\n",
       "      <td>7130.4</td>\n",
       "      <td>7339.2</td>\n",
       "      <td>7505.2</td>\n",
       "      <td>7916.3</td>\n",
       "      <td>8144.2</td>\n",
       "      <td>8388.6</td>\n",
       "      <td>8573.1</td>\n",
       "      <td>8753.4</td>\n",
       "      <td>8930.4</td>\n",
       "      <td>8976.0</td>\n",
       "    </tr>\n",
       "    <tr>\n",
       "      <th>Speed (rpm)</th>\n",
       "      <td>296450.0</td>\n",
       "      <td>0.0</td>\n",
       "      <td>8.761333e+08</td>\n",
       "      <td>2955.4</td>\n",
       "      <td>2961.8</td>\n",
       "      <td>54.2</td>\n",
       "      <td>2937.8</td>\n",
       "      <td>2835.8</td>\n",
       "      <td>2843.0</td>\n",
       "      <td>2873.8</td>\n",
       "      <td>2889.1</td>\n",
       "      <td>2906.3</td>\n",
       "      <td>2961.8</td>\n",
       "      <td>3000.9</td>\n",
       "      <td>3011.3</td>\n",
       "      <td>3014.8</td>\n",
       "      <td>3077.8</td>\n",
       "      <td>3090.4</td>\n",
       "    </tr>\n",
       "    <tr>\n",
       "      <th>By-pass Valve Position (%)</th>\n",
       "      <td>296450.0</td>\n",
       "      <td>0.0</td>\n",
       "      <td>5.945800e+05</td>\n",
       "      <td>2.0</td>\n",
       "      <td>0.0</td>\n",
       "      <td>2.5</td>\n",
       "      <td>6.2</td>\n",
       "      <td>-0.2</td>\n",
       "      <td>0.0</td>\n",
       "      <td>0.0</td>\n",
       "      <td>0.0</td>\n",
       "      <td>0.0</td>\n",
       "      <td>0.0</td>\n",
       "      <td>4.0</td>\n",
       "      <td>6.0</td>\n",
       "      <td>6.0</td>\n",
       "      <td>8.0</td>\n",
       "      <td>8.0</td>\n",
       "    </tr>\n",
       "    <tr>\n",
       "      <th>Discharge Pressure (psig)</th>\n",
       "      <td>296450.0</td>\n",
       "      <td>0.0</td>\n",
       "      <td>5.543351e+07</td>\n",
       "      <td>187.0</td>\n",
       "      <td>183.3</td>\n",
       "      <td>56.2</td>\n",
       "      <td>3159.0</td>\n",
       "      <td>70.0</td>\n",
       "      <td>80.1</td>\n",
       "      <td>94.9</td>\n",
       "      <td>126.0</td>\n",
       "      <td>143.5</td>\n",
       "      <td>183.3</td>\n",
       "      <td>223.6</td>\n",
       "      <td>265.4</td>\n",
       "      <td>300.6</td>\n",
       "      <td>312.2</td>\n",
       "      <td>324.4</td>\n",
       "    </tr>\n",
       "    <tr>\n",
       "      <th>Discharge Temperature (F)</th>\n",
       "      <td>296450.0</td>\n",
       "      <td>0.0</td>\n",
       "      <td>-6.811381e+07</td>\n",
       "      <td>-229.8</td>\n",
       "      <td>-229.1</td>\n",
       "      <td>3.6</td>\n",
       "      <td>12.8</td>\n",
       "      <td>-236.8</td>\n",
       "      <td>-236.6</td>\n",
       "      <td>-236.0</td>\n",
       "      <td>-234.3</td>\n",
       "      <td>-232.4</td>\n",
       "      <td>-229.1</td>\n",
       "      <td>-227.8</td>\n",
       "      <td>-224.7</td>\n",
       "      <td>-223.0</td>\n",
       "      <td>-221.9</td>\n",
       "      <td>-221.6</td>\n",
       "    </tr>\n",
       "    <tr>\n",
       "      <th>Run Status</th>\n",
       "      <td>0.0</td>\n",
       "      <td>296450.0</td>\n",
       "      <td>0.000000e+00</td>\n",
       "      <td>NaN</td>\n",
       "      <td>NaN</td>\n",
       "      <td>NaN</td>\n",
       "      <td>NaN</td>\n",
       "      <td>NaN</td>\n",
       "      <td>NaN</td>\n",
       "      <td>NaN</td>\n",
       "      <td>NaN</td>\n",
       "      <td>NaN</td>\n",
       "      <td>NaN</td>\n",
       "      <td>NaN</td>\n",
       "      <td>NaN</td>\n",
       "      <td>NaN</td>\n",
       "      <td>NaN</td>\n",
       "      <td>NaN</td>\n",
       "    </tr>\n",
       "  </tbody>\n",
       "</table>\n",
       "</div>"
      ],
      "text/plain": [
       "                                   N     NMISS           SUM    MEAN  MEDIAN  \\\n",
       "Suction Pressure (psig)     296450.0       0.0  1.750660e+08   590.5   586.5   \n",
       "Suction Temperature (F)     296450.0       0.0 -6.864742e+07  -231.6  -230.9   \n",
       "Total Flow (gpm)            296450.0       0.0  2.407150e+09  8119.9  8144.2   \n",
       "Speed (rpm)                 296450.0       0.0  8.761333e+08  2955.4  2961.8   \n",
       "By-pass Valve Position (%)  296450.0       0.0  5.945800e+05     2.0     0.0   \n",
       "Discharge Pressure (psig)   296450.0       0.0  5.543351e+07   187.0   183.3   \n",
       "Discharge Temperature (F)   296450.0       0.0 -6.811381e+07  -229.8  -229.1   \n",
       "Run Status                       0.0  296450.0  0.000000e+00     NaN     NaN   \n",
       "\n",
       "                              STD       VAR     MIN      P1      P5     P10  \\\n",
       "Suction Pressure (psig)      23.2     539.0   552.4   553.8   557.5   560.7   \n",
       "Suction Temperature (F)       3.6      12.8  -238.6  -238.4  -237.8  -236.1   \n",
       "Total Flow (gpm)            398.0  158443.4  7056.0  7130.4  7339.2  7505.2   \n",
       "Speed (rpm)                  54.2    2937.8  2835.8  2843.0  2873.8  2889.1   \n",
       "By-pass Valve Position (%)    2.5       6.2    -0.2     0.0     0.0     0.0   \n",
       "Discharge Pressure (psig)    56.2    3159.0    70.0    80.1    94.9   126.0   \n",
       "Discharge Temperature (F)     3.6      12.8  -236.8  -236.6  -236.0  -234.3   \n",
       "Run Status                    NaN       NaN     NaN     NaN     NaN     NaN   \n",
       "\n",
       "                               P25     P50     P75     P90     P95     P99  \\\n",
       "Suction Pressure (psig)      572.8   586.5   606.0   624.4   632.8   643.2   \n",
       "Suction Temperature (F)     -234.2  -230.9  -229.6  -226.5  -224.8  -223.7   \n",
       "Total Flow (gpm)            7916.3  8144.2  8388.6  8573.1  8753.4  8930.4   \n",
       "Speed (rpm)                 2906.3  2961.8  3000.9  3011.3  3014.8  3077.8   \n",
       "By-pass Valve Position (%)     0.0     0.0     4.0     6.0     6.0     8.0   \n",
       "Discharge Pressure (psig)    143.5   183.3   223.6   265.4   300.6   312.2   \n",
       "Discharge Temperature (F)   -232.4  -229.1  -227.8  -224.7  -223.0  -221.9   \n",
       "Run Status                     NaN     NaN     NaN     NaN     NaN     NaN   \n",
       "\n",
       "                               MAX  \n",
       "Suction Pressure (psig)      649.2  \n",
       "Suction Temperature (F)     -223.4  \n",
       "Total Flow (gpm)            8976.0  \n",
       "Speed (rpm)                 3090.4  \n",
       "By-pass Valve Position (%)     8.0  \n",
       "Discharge Pressure (psig)    324.4  \n",
       "Discharge Temperature (F)   -221.6  \n",
       "Run Status                     NaN  "
      ]
     },
     "execution_count": 65,
     "metadata": {},
     "output_type": "execute_result"
    }
   ],
   "source": [
    "# alternate of .describe() for continuous variables\n",
    "\n",
    "data_conti_vars.apply(continuous_var_summary).T.round(1)"
   ]
  },
  {
   "cell_type": "code",
   "execution_count": 66,
   "metadata": {},
   "outputs": [
    {
     "data": {
      "text/html": [
       "<div>\n",
       "<style scoped>\n",
       "    .dataframe tbody tr th:only-of-type {\n",
       "        vertical-align: middle;\n",
       "    }\n",
       "\n",
       "    .dataframe tbody tr th {\n",
       "        vertical-align: top;\n",
       "    }\n",
       "\n",
       "    .dataframe thead th {\n",
       "        text-align: right;\n",
       "    }\n",
       "</style>\n",
       "<table border=\"1\" class=\"dataframe\">\n",
       "  <thead>\n",
       "    <tr style=\"text-align: right;\">\n",
       "      <th></th>\n",
       "      <th>N</th>\n",
       "      <th>NMISS</th>\n",
       "      <th>MODE</th>\n",
       "      <th>FREQ</th>\n",
       "      <th>PERCENT</th>\n",
       "    </tr>\n",
       "  </thead>\n",
       "  <tbody>\n",
       "    <tr>\n",
       "      <th>Timestamp</th>\n",
       "      <td>296450</td>\n",
       "      <td>0</td>\n",
       "      <td>1/7/2020 11:48</td>\n",
       "      <td>4</td>\n",
       "      <td>0</td>\n",
       "    </tr>\n",
       "  </tbody>\n",
       "</table>\n",
       "</div>"
      ],
      "text/plain": [
       "                N NMISS            MODE FREQ PERCENT\n",
       "Timestamp  296450     0  1/7/2020 11:48    4       0"
      ]
     },
     "execution_count": 66,
     "metadata": {},
     "output_type": "execute_result"
    }
   ],
   "source": [
    "# alternate of .describe() for categorical variables\n",
    "\n",
    "data_cat_vars.apply(categorical_var_summary).T"
   ]
  },
  {
   "cell_type": "markdown",
   "metadata": {},
   "source": [
    "## outlier treatment"
   ]
  },
  {
   "cell_type": "code",
   "execution_count": 67,
   "metadata": {},
   "outputs": [],
   "source": [
    "data_conti_vars = data_conti_vars.apply(lambda x: x.clip(lower = x.dropna().quantile(0.01), upper = x.quantile(0.99)))"
   ]
  },
  {
   "cell_type": "code",
   "execution_count": 68,
   "metadata": {},
   "outputs": [
    {
     "data": {
      "text/html": [
       "<div>\n",
       "<style scoped>\n",
       "    .dataframe tbody tr th:only-of-type {\n",
       "        vertical-align: middle;\n",
       "    }\n",
       "\n",
       "    .dataframe tbody tr th {\n",
       "        vertical-align: top;\n",
       "    }\n",
       "\n",
       "    .dataframe thead th {\n",
       "        text-align: right;\n",
       "    }\n",
       "</style>\n",
       "<table border=\"1\" class=\"dataframe\">\n",
       "  <thead>\n",
       "    <tr style=\"text-align: right;\">\n",
       "      <th></th>\n",
       "      <th>N</th>\n",
       "      <th>NMISS</th>\n",
       "      <th>SUM</th>\n",
       "      <th>MEAN</th>\n",
       "      <th>MEDIAN</th>\n",
       "      <th>STD</th>\n",
       "      <th>VAR</th>\n",
       "      <th>MIN</th>\n",
       "      <th>P1</th>\n",
       "      <th>P5</th>\n",
       "      <th>P10</th>\n",
       "      <th>P25</th>\n",
       "      <th>P50</th>\n",
       "      <th>P75</th>\n",
       "      <th>P90</th>\n",
       "      <th>P95</th>\n",
       "      <th>P99</th>\n",
       "      <th>MAX</th>\n",
       "    </tr>\n",
       "  </thead>\n",
       "  <tbody>\n",
       "    <tr>\n",
       "      <th>Suction Pressure (psig)</th>\n",
       "      <td>296450.0</td>\n",
       "      <td>0.0</td>\n",
       "      <td>1.750633e+08</td>\n",
       "      <td>590.5</td>\n",
       "      <td>586.5</td>\n",
       "      <td>23.2</td>\n",
       "      <td>536.8</td>\n",
       "      <td>553.8</td>\n",
       "      <td>553.8</td>\n",
       "      <td>557.5</td>\n",
       "      <td>560.7</td>\n",
       "      <td>572.8</td>\n",
       "      <td>586.5</td>\n",
       "      <td>606.0</td>\n",
       "      <td>624.4</td>\n",
       "      <td>632.8</td>\n",
       "      <td>643.2</td>\n",
       "      <td>643.2</td>\n",
       "    </tr>\n",
       "    <tr>\n",
       "      <th>Suction Temperature (F)</th>\n",
       "      <td>296450.0</td>\n",
       "      <td>0.0</td>\n",
       "      <td>-6.864763e+07</td>\n",
       "      <td>-231.6</td>\n",
       "      <td>-230.9</td>\n",
       "      <td>3.6</td>\n",
       "      <td>12.7</td>\n",
       "      <td>-238.4</td>\n",
       "      <td>-238.4</td>\n",
       "      <td>-237.8</td>\n",
       "      <td>-236.1</td>\n",
       "      <td>-234.2</td>\n",
       "      <td>-230.9</td>\n",
       "      <td>-229.6</td>\n",
       "      <td>-226.5</td>\n",
       "      <td>-224.8</td>\n",
       "      <td>-223.7</td>\n",
       "      <td>-223.7</td>\n",
       "    </tr>\n",
       "    <tr>\n",
       "      <th>Total Flow (gpm)</th>\n",
       "      <td>296450.0</td>\n",
       "      <td>0.0</td>\n",
       "      <td>2.407192e+09</td>\n",
       "      <td>8120.1</td>\n",
       "      <td>8144.2</td>\n",
       "      <td>396.6</td>\n",
       "      <td>157305.8</td>\n",
       "      <td>7130.4</td>\n",
       "      <td>7130.4</td>\n",
       "      <td>7339.2</td>\n",
       "      <td>7505.2</td>\n",
       "      <td>7916.3</td>\n",
       "      <td>8144.2</td>\n",
       "      <td>8388.6</td>\n",
       "      <td>8573.1</td>\n",
       "      <td>8753.4</td>\n",
       "      <td>8930.4</td>\n",
       "      <td>8930.4</td>\n",
       "    </tr>\n",
       "    <tr>\n",
       "      <th>Speed (rpm)</th>\n",
       "      <td>296450.0</td>\n",
       "      <td>0.0</td>\n",
       "      <td>8.761257e+08</td>\n",
       "      <td>2955.4</td>\n",
       "      <td>2961.8</td>\n",
       "      <td>54.0</td>\n",
       "      <td>2913.6</td>\n",
       "      <td>2843.0</td>\n",
       "      <td>2843.0</td>\n",
       "      <td>2873.8</td>\n",
       "      <td>2889.1</td>\n",
       "      <td>2906.3</td>\n",
       "      <td>2961.8</td>\n",
       "      <td>3000.9</td>\n",
       "      <td>3011.3</td>\n",
       "      <td>3014.8</td>\n",
       "      <td>3077.8</td>\n",
       "      <td>3077.8</td>\n",
       "    </tr>\n",
       "    <tr>\n",
       "      <th>By-pass Valve Position (%)</th>\n",
       "      <td>296450.0</td>\n",
       "      <td>0.0</td>\n",
       "      <td>5.945802e+05</td>\n",
       "      <td>2.0</td>\n",
       "      <td>0.0</td>\n",
       "      <td>2.5</td>\n",
       "      <td>6.2</td>\n",
       "      <td>0.0</td>\n",
       "      <td>0.0</td>\n",
       "      <td>0.0</td>\n",
       "      <td>0.0</td>\n",
       "      <td>0.0</td>\n",
       "      <td>0.0</td>\n",
       "      <td>4.0</td>\n",
       "      <td>6.0</td>\n",
       "      <td>6.0</td>\n",
       "      <td>8.0</td>\n",
       "      <td>8.0</td>\n",
       "    </tr>\n",
       "    <tr>\n",
       "      <th>Discharge Pressure (psig)</th>\n",
       "      <td>296450.0</td>\n",
       "      <td>0.0</td>\n",
       "      <td>5.543319e+07</td>\n",
       "      <td>187.0</td>\n",
       "      <td>183.3</td>\n",
       "      <td>56.1</td>\n",
       "      <td>3144.2</td>\n",
       "      <td>80.1</td>\n",
       "      <td>80.1</td>\n",
       "      <td>94.9</td>\n",
       "      <td>126.0</td>\n",
       "      <td>143.5</td>\n",
       "      <td>183.3</td>\n",
       "      <td>223.6</td>\n",
       "      <td>265.4</td>\n",
       "      <td>300.6</td>\n",
       "      <td>312.2</td>\n",
       "      <td>312.2</td>\n",
       "    </tr>\n",
       "    <tr>\n",
       "      <th>Discharge Temperature (F)</th>\n",
       "      <td>296450.0</td>\n",
       "      <td>0.0</td>\n",
       "      <td>-6.811402e+07</td>\n",
       "      <td>-229.8</td>\n",
       "      <td>-229.1</td>\n",
       "      <td>3.6</td>\n",
       "      <td>12.7</td>\n",
       "      <td>-236.6</td>\n",
       "      <td>-236.6</td>\n",
       "      <td>-236.0</td>\n",
       "      <td>-234.3</td>\n",
       "      <td>-232.4</td>\n",
       "      <td>-229.1</td>\n",
       "      <td>-227.8</td>\n",
       "      <td>-224.7</td>\n",
       "      <td>-223.0</td>\n",
       "      <td>-221.9</td>\n",
       "      <td>-221.9</td>\n",
       "    </tr>\n",
       "    <tr>\n",
       "      <th>Run Status</th>\n",
       "      <td>0.0</td>\n",
       "      <td>296450.0</td>\n",
       "      <td>0.000000e+00</td>\n",
       "      <td>NaN</td>\n",
       "      <td>NaN</td>\n",
       "      <td>NaN</td>\n",
       "      <td>NaN</td>\n",
       "      <td>NaN</td>\n",
       "      <td>NaN</td>\n",
       "      <td>NaN</td>\n",
       "      <td>NaN</td>\n",
       "      <td>NaN</td>\n",
       "      <td>NaN</td>\n",
       "      <td>NaN</td>\n",
       "      <td>NaN</td>\n",
       "      <td>NaN</td>\n",
       "      <td>NaN</td>\n",
       "      <td>NaN</td>\n",
       "    </tr>\n",
       "  </tbody>\n",
       "</table>\n",
       "</div>"
      ],
      "text/plain": [
       "                                   N     NMISS           SUM    MEAN  MEDIAN  \\\n",
       "Suction Pressure (psig)     296450.0       0.0  1.750633e+08   590.5   586.5   \n",
       "Suction Temperature (F)     296450.0       0.0 -6.864763e+07  -231.6  -230.9   \n",
       "Total Flow (gpm)            296450.0       0.0  2.407192e+09  8120.1  8144.2   \n",
       "Speed (rpm)                 296450.0       0.0  8.761257e+08  2955.4  2961.8   \n",
       "By-pass Valve Position (%)  296450.0       0.0  5.945802e+05     2.0     0.0   \n",
       "Discharge Pressure (psig)   296450.0       0.0  5.543319e+07   187.0   183.3   \n",
       "Discharge Temperature (F)   296450.0       0.0 -6.811402e+07  -229.8  -229.1   \n",
       "Run Status                       0.0  296450.0  0.000000e+00     NaN     NaN   \n",
       "\n",
       "                              STD       VAR     MIN      P1      P5     P10  \\\n",
       "Suction Pressure (psig)      23.2     536.8   553.8   553.8   557.5   560.7   \n",
       "Suction Temperature (F)       3.6      12.7  -238.4  -238.4  -237.8  -236.1   \n",
       "Total Flow (gpm)            396.6  157305.8  7130.4  7130.4  7339.2  7505.2   \n",
       "Speed (rpm)                  54.0    2913.6  2843.0  2843.0  2873.8  2889.1   \n",
       "By-pass Valve Position (%)    2.5       6.2     0.0     0.0     0.0     0.0   \n",
       "Discharge Pressure (psig)    56.1    3144.2    80.1    80.1    94.9   126.0   \n",
       "Discharge Temperature (F)     3.6      12.7  -236.6  -236.6  -236.0  -234.3   \n",
       "Run Status                    NaN       NaN     NaN     NaN     NaN     NaN   \n",
       "\n",
       "                               P25     P50     P75     P90     P95     P99  \\\n",
       "Suction Pressure (psig)      572.8   586.5   606.0   624.4   632.8   643.2   \n",
       "Suction Temperature (F)     -234.2  -230.9  -229.6  -226.5  -224.8  -223.7   \n",
       "Total Flow (gpm)            7916.3  8144.2  8388.6  8573.1  8753.4  8930.4   \n",
       "Speed (rpm)                 2906.3  2961.8  3000.9  3011.3  3014.8  3077.8   \n",
       "By-pass Valve Position (%)     0.0     0.0     4.0     6.0     6.0     8.0   \n",
       "Discharge Pressure (psig)    143.5   183.3   223.6   265.4   300.6   312.2   \n",
       "Discharge Temperature (F)   -232.4  -229.1  -227.8  -224.7  -223.0  -221.9   \n",
       "Run Status                     NaN     NaN     NaN     NaN     NaN     NaN   \n",
       "\n",
       "                               MAX  \n",
       "Suction Pressure (psig)      643.2  \n",
       "Suction Temperature (F)     -223.7  \n",
       "Total Flow (gpm)            8930.4  \n",
       "Speed (rpm)                 3077.8  \n",
       "By-pass Valve Position (%)     8.0  \n",
       "Discharge Pressure (psig)    312.2  \n",
       "Discharge Temperature (F)   -221.9  \n",
       "Run Status                     NaN  "
      ]
     },
     "execution_count": 68,
     "metadata": {},
     "output_type": "execute_result"
    }
   ],
   "source": [
    "data_conti_vars.apply(continuous_var_summary).T.round(1)"
   ]
  },
  {
   "cell_type": "markdown",
   "metadata": {},
   "source": [
    "### Missing value treatment"
   ]
  },
  {
   "cell_type": "code",
   "execution_count": 69,
   "metadata": {},
   "outputs": [],
   "source": [
    "data_conti_vars = data_conti_vars.apply(missing_imputation)\n",
    "\n",
    "data_cat_vars = data_cat_vars.apply(missing_imputation)"
   ]
  },
  {
   "cell_type": "code",
   "execution_count": 70,
   "metadata": {},
   "outputs": [
    {
     "data": {
      "text/html": [
       "<div>\n",
       "<style scoped>\n",
       "    .dataframe tbody tr th:only-of-type {\n",
       "        vertical-align: middle;\n",
       "    }\n",
       "\n",
       "    .dataframe tbody tr th {\n",
       "        vertical-align: top;\n",
       "    }\n",
       "\n",
       "    .dataframe thead th {\n",
       "        text-align: right;\n",
       "    }\n",
       "</style>\n",
       "<table border=\"1\" class=\"dataframe\">\n",
       "  <thead>\n",
       "    <tr style=\"text-align: right;\">\n",
       "      <th></th>\n",
       "      <th>N</th>\n",
       "      <th>NMISS</th>\n",
       "      <th>SUM</th>\n",
       "      <th>MEAN</th>\n",
       "      <th>MEDIAN</th>\n",
       "      <th>STD</th>\n",
       "      <th>VAR</th>\n",
       "      <th>MIN</th>\n",
       "      <th>P1</th>\n",
       "      <th>P5</th>\n",
       "      <th>P10</th>\n",
       "      <th>P25</th>\n",
       "      <th>P50</th>\n",
       "      <th>P75</th>\n",
       "      <th>P90</th>\n",
       "      <th>P95</th>\n",
       "      <th>P99</th>\n",
       "      <th>MAX</th>\n",
       "    </tr>\n",
       "  </thead>\n",
       "  <tbody>\n",
       "    <tr>\n",
       "      <th>Suction Pressure (psig)</th>\n",
       "      <td>296450.0</td>\n",
       "      <td>0.0</td>\n",
       "      <td>1.750633e+08</td>\n",
       "      <td>590.5</td>\n",
       "      <td>586.5</td>\n",
       "      <td>23.2</td>\n",
       "      <td>536.8</td>\n",
       "      <td>553.8</td>\n",
       "      <td>553.8</td>\n",
       "      <td>557.5</td>\n",
       "      <td>560.7</td>\n",
       "      <td>572.8</td>\n",
       "      <td>586.5</td>\n",
       "      <td>606.0</td>\n",
       "      <td>624.4</td>\n",
       "      <td>632.8</td>\n",
       "      <td>643.2</td>\n",
       "      <td>643.2</td>\n",
       "    </tr>\n",
       "    <tr>\n",
       "      <th>Suction Temperature (F)</th>\n",
       "      <td>296450.0</td>\n",
       "      <td>0.0</td>\n",
       "      <td>-6.864763e+07</td>\n",
       "      <td>-231.6</td>\n",
       "      <td>-230.9</td>\n",
       "      <td>3.6</td>\n",
       "      <td>12.7</td>\n",
       "      <td>-238.4</td>\n",
       "      <td>-238.4</td>\n",
       "      <td>-237.8</td>\n",
       "      <td>-236.1</td>\n",
       "      <td>-234.2</td>\n",
       "      <td>-230.9</td>\n",
       "      <td>-229.6</td>\n",
       "      <td>-226.5</td>\n",
       "      <td>-224.8</td>\n",
       "      <td>-223.7</td>\n",
       "      <td>-223.7</td>\n",
       "    </tr>\n",
       "    <tr>\n",
       "      <th>Total Flow (gpm)</th>\n",
       "      <td>296450.0</td>\n",
       "      <td>0.0</td>\n",
       "      <td>2.407192e+09</td>\n",
       "      <td>8120.1</td>\n",
       "      <td>8144.2</td>\n",
       "      <td>396.6</td>\n",
       "      <td>157305.8</td>\n",
       "      <td>7130.4</td>\n",
       "      <td>7130.4</td>\n",
       "      <td>7339.2</td>\n",
       "      <td>7505.2</td>\n",
       "      <td>7916.3</td>\n",
       "      <td>8144.2</td>\n",
       "      <td>8388.6</td>\n",
       "      <td>8573.1</td>\n",
       "      <td>8753.4</td>\n",
       "      <td>8930.4</td>\n",
       "      <td>8930.4</td>\n",
       "    </tr>\n",
       "    <tr>\n",
       "      <th>Speed (rpm)</th>\n",
       "      <td>296450.0</td>\n",
       "      <td>0.0</td>\n",
       "      <td>8.761257e+08</td>\n",
       "      <td>2955.4</td>\n",
       "      <td>2961.8</td>\n",
       "      <td>54.0</td>\n",
       "      <td>2913.6</td>\n",
       "      <td>2843.0</td>\n",
       "      <td>2843.0</td>\n",
       "      <td>2873.8</td>\n",
       "      <td>2889.1</td>\n",
       "      <td>2906.3</td>\n",
       "      <td>2961.8</td>\n",
       "      <td>3000.9</td>\n",
       "      <td>3011.3</td>\n",
       "      <td>3014.8</td>\n",
       "      <td>3077.8</td>\n",
       "      <td>3077.8</td>\n",
       "    </tr>\n",
       "    <tr>\n",
       "      <th>By-pass Valve Position (%)</th>\n",
       "      <td>296450.0</td>\n",
       "      <td>0.0</td>\n",
       "      <td>5.945802e+05</td>\n",
       "      <td>2.0</td>\n",
       "      <td>0.0</td>\n",
       "      <td>2.5</td>\n",
       "      <td>6.2</td>\n",
       "      <td>0.0</td>\n",
       "      <td>0.0</td>\n",
       "      <td>0.0</td>\n",
       "      <td>0.0</td>\n",
       "      <td>0.0</td>\n",
       "      <td>0.0</td>\n",
       "      <td>4.0</td>\n",
       "      <td>6.0</td>\n",
       "      <td>6.0</td>\n",
       "      <td>8.0</td>\n",
       "      <td>8.0</td>\n",
       "    </tr>\n",
       "    <tr>\n",
       "      <th>Discharge Pressure (psig)</th>\n",
       "      <td>296450.0</td>\n",
       "      <td>0.0</td>\n",
       "      <td>5.543319e+07</td>\n",
       "      <td>187.0</td>\n",
       "      <td>183.3</td>\n",
       "      <td>56.1</td>\n",
       "      <td>3144.2</td>\n",
       "      <td>80.1</td>\n",
       "      <td>80.1</td>\n",
       "      <td>94.9</td>\n",
       "      <td>126.0</td>\n",
       "      <td>143.5</td>\n",
       "      <td>183.3</td>\n",
       "      <td>223.6</td>\n",
       "      <td>265.4</td>\n",
       "      <td>300.6</td>\n",
       "      <td>312.2</td>\n",
       "      <td>312.2</td>\n",
       "    </tr>\n",
       "    <tr>\n",
       "      <th>Discharge Temperature (F)</th>\n",
       "      <td>296450.0</td>\n",
       "      <td>0.0</td>\n",
       "      <td>-6.811402e+07</td>\n",
       "      <td>-229.8</td>\n",
       "      <td>-229.1</td>\n",
       "      <td>3.6</td>\n",
       "      <td>12.7</td>\n",
       "      <td>-236.6</td>\n",
       "      <td>-236.6</td>\n",
       "      <td>-236.0</td>\n",
       "      <td>-234.3</td>\n",
       "      <td>-232.4</td>\n",
       "      <td>-229.1</td>\n",
       "      <td>-227.8</td>\n",
       "      <td>-224.7</td>\n",
       "      <td>-223.0</td>\n",
       "      <td>-221.9</td>\n",
       "      <td>-221.9</td>\n",
       "    </tr>\n",
       "    <tr>\n",
       "      <th>Run Status</th>\n",
       "      <td>0.0</td>\n",
       "      <td>296450.0</td>\n",
       "      <td>0.000000e+00</td>\n",
       "      <td>NaN</td>\n",
       "      <td>NaN</td>\n",
       "      <td>NaN</td>\n",
       "      <td>NaN</td>\n",
       "      <td>NaN</td>\n",
       "      <td>NaN</td>\n",
       "      <td>NaN</td>\n",
       "      <td>NaN</td>\n",
       "      <td>NaN</td>\n",
       "      <td>NaN</td>\n",
       "      <td>NaN</td>\n",
       "      <td>NaN</td>\n",
       "      <td>NaN</td>\n",
       "      <td>NaN</td>\n",
       "      <td>NaN</td>\n",
       "    </tr>\n",
       "  </tbody>\n",
       "</table>\n",
       "</div>"
      ],
      "text/plain": [
       "                                   N     NMISS           SUM    MEAN  MEDIAN  \\\n",
       "Suction Pressure (psig)     296450.0       0.0  1.750633e+08   590.5   586.5   \n",
       "Suction Temperature (F)     296450.0       0.0 -6.864763e+07  -231.6  -230.9   \n",
       "Total Flow (gpm)            296450.0       0.0  2.407192e+09  8120.1  8144.2   \n",
       "Speed (rpm)                 296450.0       0.0  8.761257e+08  2955.4  2961.8   \n",
       "By-pass Valve Position (%)  296450.0       0.0  5.945802e+05     2.0     0.0   \n",
       "Discharge Pressure (psig)   296450.0       0.0  5.543319e+07   187.0   183.3   \n",
       "Discharge Temperature (F)   296450.0       0.0 -6.811402e+07  -229.8  -229.1   \n",
       "Run Status                       0.0  296450.0  0.000000e+00     NaN     NaN   \n",
       "\n",
       "                              STD       VAR     MIN      P1      P5     P10  \\\n",
       "Suction Pressure (psig)      23.2     536.8   553.8   553.8   557.5   560.7   \n",
       "Suction Temperature (F)       3.6      12.7  -238.4  -238.4  -237.8  -236.1   \n",
       "Total Flow (gpm)            396.6  157305.8  7130.4  7130.4  7339.2  7505.2   \n",
       "Speed (rpm)                  54.0    2913.6  2843.0  2843.0  2873.8  2889.1   \n",
       "By-pass Valve Position (%)    2.5       6.2     0.0     0.0     0.0     0.0   \n",
       "Discharge Pressure (psig)    56.1    3144.2    80.1    80.1    94.9   126.0   \n",
       "Discharge Temperature (F)     3.6      12.7  -236.6  -236.6  -236.0  -234.3   \n",
       "Run Status                    NaN       NaN     NaN     NaN     NaN     NaN   \n",
       "\n",
       "                               P25     P50     P75     P90     P95     P99  \\\n",
       "Suction Pressure (psig)      572.8   586.5   606.0   624.4   632.8   643.2   \n",
       "Suction Temperature (F)     -234.2  -230.9  -229.6  -226.5  -224.8  -223.7   \n",
       "Total Flow (gpm)            7916.3  8144.2  8388.6  8573.1  8753.4  8930.4   \n",
       "Speed (rpm)                 2906.3  2961.8  3000.9  3011.3  3014.8  3077.8   \n",
       "By-pass Valve Position (%)     0.0     0.0     4.0     6.0     6.0     8.0   \n",
       "Discharge Pressure (psig)    143.5   183.3   223.6   265.4   300.6   312.2   \n",
       "Discharge Temperature (F)   -232.4  -229.1  -227.8  -224.7  -223.0  -221.9   \n",
       "Run Status                     NaN     NaN     NaN     NaN     NaN     NaN   \n",
       "\n",
       "                               MAX  \n",
       "Suction Pressure (psig)      643.2  \n",
       "Suction Temperature (F)     -223.7  \n",
       "Total Flow (gpm)            8930.4  \n",
       "Speed (rpm)                 3077.8  \n",
       "By-pass Valve Position (%)     8.0  \n",
       "Discharge Pressure (psig)    312.2  \n",
       "Discharge Temperature (F)   -221.9  \n",
       "Run Status                     NaN  "
      ]
     },
     "execution_count": 70,
     "metadata": {},
     "output_type": "execute_result"
    }
   ],
   "source": [
    "data_conti_vars.apply(continuous_var_summary).T.round(1)"
   ]
  },
  {
   "cell_type": "markdown",
   "metadata": {},
   "source": [
    "### final data for analysis"
   ]
  },
  {
   "cell_type": "code",
   "execution_count": 71,
   "metadata": {},
   "outputs": [],
   "source": [
    "data_new = pd.concat([data_conti_vars, data_cat_vars], axis = 1)"
   ]
  },
  {
   "cell_type": "code",
   "execution_count": 72,
   "metadata": {},
   "outputs": [
    {
     "data": {
      "text/html": [
       "<div>\n",
       "<style scoped>\n",
       "    .dataframe tbody tr th:only-of-type {\n",
       "        vertical-align: middle;\n",
       "    }\n",
       "\n",
       "    .dataframe tbody tr th {\n",
       "        vertical-align: top;\n",
       "    }\n",
       "\n",
       "    .dataframe thead th {\n",
       "        text-align: right;\n",
       "    }\n",
       "</style>\n",
       "<table border=\"1\" class=\"dataframe\">\n",
       "  <thead>\n",
       "    <tr style=\"text-align: right;\">\n",
       "      <th></th>\n",
       "      <th>Suction Pressure (psig)</th>\n",
       "      <th>Suction Temperature (F)</th>\n",
       "      <th>Total Flow (gpm)</th>\n",
       "      <th>Speed (rpm)</th>\n",
       "      <th>By-pass Valve Position (%)</th>\n",
       "      <th>Discharge Pressure (psig)</th>\n",
       "      <th>Discharge Temperature (F)</th>\n",
       "      <th>Run Status</th>\n",
       "      <th>Timestamp</th>\n",
       "    </tr>\n",
       "  </thead>\n",
       "  <tbody>\n",
       "    <tr>\n",
       "      <th>0</th>\n",
       "      <td>596.100853</td>\n",
       "      <td>-229.436683</td>\n",
       "      <td>7925.800487</td>\n",
       "      <td>2999.411045</td>\n",
       "      <td>6.0</td>\n",
       "      <td>226.044931</td>\n",
       "      <td>-227.614448</td>\n",
       "      <td>NaN</td>\n",
       "      <td>1/4/2020 21:20</td>\n",
       "    </tr>\n",
       "    <tr>\n",
       "      <th>1</th>\n",
       "      <td>596.838217</td>\n",
       "      <td>-230.453708</td>\n",
       "      <td>8085.917724</td>\n",
       "      <td>2989.706617</td>\n",
       "      <td>6.0</td>\n",
       "      <td>217.150974</td>\n",
       "      <td>-228.668636</td>\n",
       "      <td>NaN</td>\n",
       "      <td>1/4/2020 21:20</td>\n",
       "    </tr>\n",
       "    <tr>\n",
       "      <th>2</th>\n",
       "      <td>596.468895</td>\n",
       "      <td>-229.545356</td>\n",
       "      <td>7902.175243</td>\n",
       "      <td>3006.331679</td>\n",
       "      <td>6.0</td>\n",
       "      <td>226.054086</td>\n",
       "      <td>-227.755324</td>\n",
       "      <td>NaN</td>\n",
       "      <td>1/4/2020 21:20</td>\n",
       "    </tr>\n",
       "    <tr>\n",
       "      <th>3</th>\n",
       "      <td>603.568271</td>\n",
       "      <td>-230.309438</td>\n",
       "      <td>7991.808959</td>\n",
       "      <td>3010.487486</td>\n",
       "      <td>6.0</td>\n",
       "      <td>226.016182</td>\n",
       "      <td>-228.489113</td>\n",
       "      <td>NaN</td>\n",
       "      <td>1/4/2020 21:20</td>\n",
       "    </tr>\n",
       "    <tr>\n",
       "      <th>4</th>\n",
       "      <td>595.407372</td>\n",
       "      <td>-229.767969</td>\n",
       "      <td>7871.560747</td>\n",
       "      <td>2986.665518</td>\n",
       "      <td>6.0</td>\n",
       "      <td>227.769383</td>\n",
       "      <td>-227.971795</td>\n",
       "      <td>NaN</td>\n",
       "      <td>1/4/2020 21:21</td>\n",
       "    </tr>\n",
       "  </tbody>\n",
       "</table>\n",
       "</div>"
      ],
      "text/plain": [
       "   Suction Pressure (psig)  Suction Temperature (F)  Total Flow (gpm)  \\\n",
       "0               596.100853              -229.436683       7925.800487   \n",
       "1               596.838217              -230.453708       8085.917724   \n",
       "2               596.468895              -229.545356       7902.175243   \n",
       "3               603.568271              -230.309438       7991.808959   \n",
       "4               595.407372              -229.767969       7871.560747   \n",
       "\n",
       "   Speed (rpm)  By-pass Valve Position (%)  Discharge Pressure (psig)  \\\n",
       "0  2999.411045                         6.0                 226.044931   \n",
       "1  2989.706617                         6.0                 217.150974   \n",
       "2  3006.331679                         6.0                 226.054086   \n",
       "3  3010.487486                         6.0                 226.016182   \n",
       "4  2986.665518                         6.0                 227.769383   \n",
       "\n",
       "   Discharge Temperature (F)  Run Status       Timestamp  \n",
       "0                -227.614448         NaN  1/4/2020 21:20  \n",
       "1                -228.668636         NaN  1/4/2020 21:20  \n",
       "2                -227.755324         NaN  1/4/2020 21:20  \n",
       "3                -228.489113         NaN  1/4/2020 21:20  \n",
       "4                -227.971795         NaN  1/4/2020 21:21  "
      ]
     },
     "execution_count": 72,
     "metadata": {},
     "output_type": "execute_result"
    }
   ],
   "source": [
    "data_new.head()"
   ]
  },
  {
   "cell_type": "markdown",
   "metadata": {},
   "source": [
    "### Assumptions check"
   ]
  },
  {
   "cell_type": "code",
   "execution_count": 73,
   "metadata": {},
   "outputs": [
    {
     "data": {
      "image/png": "[encoded data removed]",
      "text/plain": [
       "<Figure size 432x288 with 1 Axes>"
      ]
     },
     "metadata": {
      "needs_background": "light"
     },
     "output_type": "display_data"
    }
   ],
   "source": [
    "# Very first assumtion is that all the variables should be normally distributed, however that can't be possible\n",
    "# However we have to be atleast strict about the dependant Y variable\n",
    "\n",
    "# Distribution of variables\n",
    "sns.distplot(data_new['Discharge Pressure (psig)'])\n",
    "plt.show()\n",
    "# this distribution is highly skewed\n"
   ]
  },
  {
   "cell_type": "code",
   "execution_count": 74,
   "metadata": {},
   "outputs": [
    {
     "data": {
      "image/png": "[encoded data removed]",
      "text/plain": [
       "<Figure size 432x288 with 1 Axes>"
      ]
     },
     "metadata": {
      "needs_background": "light"
     },
     "output_type": "display_data"
    }
   ],
   "source": [
    "# apply log transformation: log is recalling the data and making the distribution normal\n",
    "\n",
    "data_new['ln_Discharge Pressure (psig)'] = np.log(data_new['Discharge Pressure (psig)'])\n",
    "\n",
    "# Distribution of variables\n",
    "\n",
    "sns.distplot(data_new['ln_Discharge Pressure (psig)'])\n",
    "plt.show()"
   ]
  },
  {
   "cell_type": "code",
   "execution_count": 75,
   "metadata": {},
   "outputs": [
    {
     "data": {
      "text/html": [
       "<div>\n",
       "<style scoped>\n",
       "    .dataframe tbody tr th:only-of-type {\n",
       "        vertical-align: middle;\n",
       "    }\n",
       "\n",
       "    .dataframe tbody tr th {\n",
       "        vertical-align: top;\n",
       "    }\n",
       "\n",
       "    .dataframe thead th {\n",
       "        text-align: right;\n",
       "    }\n",
       "</style>\n",
       "<table border=\"1\" class=\"dataframe\">\n",
       "  <thead>\n",
       "    <tr style=\"text-align: right;\">\n",
       "      <th></th>\n",
       "      <th>Suction Pressure (psig)</th>\n",
       "      <th>Suction Temperature (F)</th>\n",
       "      <th>Total Flow (gpm)</th>\n",
       "      <th>Speed (rpm)</th>\n",
       "      <th>By-pass Valve Position (%)</th>\n",
       "      <th>Discharge Pressure (psig)</th>\n",
       "      <th>Discharge Temperature (F)</th>\n",
       "      <th>Run Status</th>\n",
       "      <th>ln_Discharge Pressure (psig)</th>\n",
       "    </tr>\n",
       "  </thead>\n",
       "  <tbody>\n",
       "    <tr>\n",
       "      <th>Suction Pressure (psig)</th>\n",
       "      <td>1.000000</td>\n",
       "      <td>0.863008</td>\n",
       "      <td>-0.873614</td>\n",
       "      <td>-0.370362</td>\n",
       "      <td>0.089923</td>\n",
       "      <td>0.905570</td>\n",
       "      <td>0.863004</td>\n",
       "      <td>NaN</td>\n",
       "      <td>0.872692</td>\n",
       "    </tr>\n",
       "    <tr>\n",
       "      <th>Suction Temperature (F)</th>\n",
       "      <td>0.863008</td>\n",
       "      <td>1.000000</td>\n",
       "      <td>-0.939372</td>\n",
       "      <td>-0.500414</td>\n",
       "      <td>0.348880</td>\n",
       "      <td>0.960169</td>\n",
       "      <td>0.999993</td>\n",
       "      <td>NaN</td>\n",
       "      <td>0.949232</td>\n",
       "    </tr>\n",
       "    <tr>\n",
       "      <th>Total Flow (gpm)</th>\n",
       "      <td>-0.873614</td>\n",
       "      <td>-0.939372</td>\n",
       "      <td>1.000000</td>\n",
       "      <td>0.484509</td>\n",
       "      <td>-0.275904</td>\n",
       "      <td>-0.973883</td>\n",
       "      <td>-0.939365</td>\n",
       "      <td>NaN</td>\n",
       "      <td>-0.956042</td>\n",
       "    </tr>\n",
       "    <tr>\n",
       "      <th>Speed (rpm)</th>\n",
       "      <td>-0.370362</td>\n",
       "      <td>-0.500414</td>\n",
       "      <td>0.484509</td>\n",
       "      <td>1.000000</td>\n",
       "      <td>0.174440</td>\n",
       "      <td>-0.435291</td>\n",
       "      <td>-0.500415</td>\n",
       "      <td>NaN</td>\n",
       "      <td>-0.366548</td>\n",
       "    </tr>\n",
       "    <tr>\n",
       "      <th>By-pass Valve Position (%)</th>\n",
       "      <td>0.089923</td>\n",
       "      <td>0.348880</td>\n",
       "      <td>-0.275904</td>\n",
       "      <td>0.174440</td>\n",
       "      <td>1.000000</td>\n",
       "      <td>0.399752</td>\n",
       "      <td>0.348876</td>\n",
       "      <td>NaN</td>\n",
       "      <td>0.410360</td>\n",
       "    </tr>\n",
       "    <tr>\n",
       "      <th>Discharge Pressure (psig)</th>\n",
       "      <td>0.905570</td>\n",
       "      <td>0.960169</td>\n",
       "      <td>-0.973883</td>\n",
       "      <td>-0.435291</td>\n",
       "      <td>0.399752</td>\n",
       "      <td>1.000000</td>\n",
       "      <td>0.960162</td>\n",
       "      <td>NaN</td>\n",
       "      <td>0.981168</td>\n",
       "    </tr>\n",
       "    <tr>\n",
       "      <th>Discharge Temperature (F)</th>\n",
       "      <td>0.863004</td>\n",
       "      <td>0.999993</td>\n",
       "      <td>-0.939365</td>\n",
       "      <td>-0.500415</td>\n",
       "      <td>0.348876</td>\n",
       "      <td>0.960162</td>\n",
       "      <td>1.000000</td>\n",
       "      <td>NaN</td>\n",
       "      <td>0.949225</td>\n",
       "    </tr>\n",
       "    <tr>\n",
       "      <th>Run Status</th>\n",
       "      <td>NaN</td>\n",
       "      <td>NaN</td>\n",
       "      <td>NaN</td>\n",
       "      <td>NaN</td>\n",
       "      <td>NaN</td>\n",
       "      <td>NaN</td>\n",
       "      <td>NaN</td>\n",
       "      <td>NaN</td>\n",
       "      <td>NaN</td>\n",
       "    </tr>\n",
       "    <tr>\n",
       "      <th>ln_Discharge Pressure (psig)</th>\n",
       "      <td>0.872692</td>\n",
       "      <td>0.949232</td>\n",
       "      <td>-0.956042</td>\n",
       "      <td>-0.366548</td>\n",
       "      <td>0.410360</td>\n",
       "      <td>0.981168</td>\n",
       "      <td>0.949225</td>\n",
       "      <td>NaN</td>\n",
       "      <td>1.000000</td>\n",
       "    </tr>\n",
       "  </tbody>\n",
       "</table>\n",
       "</div>"
      ],
      "text/plain": [
       "                              Suction Pressure (psig)  \\\n",
       "Suction Pressure (psig)                      1.000000   \n",
       "Suction Temperature (F)                      0.863008   \n",
       "Total Flow (gpm)                            -0.873614   \n",
       "Speed (rpm)                                 -0.370362   \n",
       "By-pass Valve Position (%)                   0.089923   \n",
       "Discharge Pressure (psig)                    0.905570   \n",
       "Discharge Temperature (F)                    0.863004   \n",
       "Run Status                                        NaN   \n",
       "ln_Discharge Pressure (psig)                 0.872692   \n",
       "\n",
       "                              Suction Temperature (F)  Total Flow (gpm)  \\\n",
       "Suction Pressure (psig)                      0.863008         -0.873614   \n",
       "Suction Temperature (F)                      1.000000         -0.939372   \n",
       "Total Flow (gpm)                            -0.939372          1.000000   \n",
       "Speed (rpm)                                 -0.500414          0.484509   \n",
       "By-pass Valve Position (%)                   0.348880         -0.275904   \n",
       "Discharge Pressure (psig)                    0.960169         -0.973883   \n",
       "Discharge Temperature (F)                    0.999993         -0.939365   \n",
       "Run Status                                        NaN               NaN   \n",
       "ln_Discharge Pressure (psig)                 0.949232         -0.956042   \n",
       "\n",
       "                              Speed (rpm)  By-pass Valve Position (%)  \\\n",
       "Suction Pressure (psig)         -0.370362                    0.089923   \n",
       "Suction Temperature (F)         -0.500414                    0.348880   \n",
       "Total Flow (gpm)                 0.484509                   -0.275904   \n",
       "Speed (rpm)                      1.000000                    0.174440   \n",
       "By-pass Valve Position (%)       0.174440                    1.000000   \n",
       "Discharge Pressure (psig)       -0.435291                    0.399752   \n",
       "Discharge Temperature (F)       -0.500415                    0.348876   \n",
       "Run Status                            NaN                         NaN   \n",
       "ln_Discharge Pressure (psig)    -0.366548                    0.410360   \n",
       "\n",
       "                              Discharge Pressure (psig)  \\\n",
       "Suction Pressure (psig)                        0.905570   \n",
       "Suction Temperature (F)                        0.960169   \n",
       "Total Flow (gpm)                              -0.973883   \n",
       "Speed (rpm)                                   -0.435291   \n",
       "By-pass Valve Position (%)                     0.399752   \n",
       "Discharge Pressure (psig)                      1.000000   \n",
       "Discharge Temperature (F)                      0.960162   \n",
       "Run Status                                          NaN   \n",
       "ln_Discharge Pressure (psig)                   0.981168   \n",
       "\n",
       "                              Discharge Temperature (F)  Run Status  \\\n",
       "Suction Pressure (psig)                        0.863004         NaN   \n",
       "Suction Temperature (F)                        0.999993         NaN   \n",
       "Total Flow (gpm)                              -0.939365         NaN   \n",
       "Speed (rpm)                                   -0.500415         NaN   \n",
       "By-pass Valve Position (%)                     0.348876         NaN   \n",
       "Discharge Pressure (psig)                      0.960162         NaN   \n",
       "Discharge Temperature (F)                      1.000000         NaN   \n",
       "Run Status                                          NaN         NaN   \n",
       "ln_Discharge Pressure (psig)                   0.949225         NaN   \n",
       "\n",
       "                              ln_Discharge Pressure (psig)  \n",
       "Suction Pressure (psig)                           0.872692  \n",
       "Suction Temperature (F)                           0.949232  \n",
       "Total Flow (gpm)                                 -0.956042  \n",
       "Speed (rpm)                                      -0.366548  \n",
       "By-pass Valve Position (%)                        0.410360  \n",
       "Discharge Pressure (psig)                         0.981168  \n",
       "Discharge Temperature (F)                         0.949225  \n",
       "Run Status                                             NaN  \n",
       "ln_Discharge Pressure (psig)                      1.000000  "
      ]
     },
     "execution_count": 75,
     "metadata": {},
     "output_type": "execute_result"
    }
   ],
   "source": [
    "# Linearity: correlation matrix (ranges from 1 to -1)\n",
    "\n",
    "corrm = data_new.corr()\n",
    "\n",
    "#corrm.to_csv('corrm.csv')\n",
    "\n",
    "corrm"
   ]
  },
  {
   "cell_type": "code",
   "execution_count": 76,
   "metadata": {},
   "outputs": [
    {
     "data": {
      "text/plain": [
       "<matplotlib.axes._subplots.AxesSubplot at 0x3d86a830b8>"
      ]
     },
     "execution_count": 76,
     "metadata": {},
     "output_type": "execute_result"
    },
    {
     "data": {
      "image/png": "[encoded data removed]",
      "text/plain": [
       "<Figure size 720x576 with 2 Axes>"
      ]
     },
     "metadata": {
      "needs_background": "light"
     },
     "output_type": "display_data"
    }
   ],
   "source": [
    "# visualize correlation matrix in Seaborn using a heatmap\n",
    "\n",
    "plt.figure(figsize = (10, 8))\n",
    "sns.heatmap(data_new.corr())"
   ]
  },
  {
   "cell_type": "code",
   "execution_count": 77,
   "metadata": {},
   "outputs": [],
   "source": [
    "# dropping variables which are insignificant and have null values in the data\n",
    "\n",
    "data_new.drop(['Timestamp' , 'Run Status'], axis = 1, inplace = True)"
   ]
  },
  {
   "cell_type": "code",
   "execution_count": 78,
   "metadata": {},
   "outputs": [
    {
     "data": {
      "text/plain": [
       "(296450, 8)"
      ]
     },
     "execution_count": 78,
     "metadata": {},
     "output_type": "execute_result"
    }
   ],
   "source": [
    "# no of variables and obervations in the final data to be used for modelling\n",
    "\n",
    "data_new.shape"
   ]
  },
  {
   "cell_type": "code",
   "execution_count": 79,
   "metadata": {},
   "outputs": [
    {
     "data": {
      "text/html": [
       "<div>\n",
       "<style scoped>\n",
       "    .dataframe tbody tr th:only-of-type {\n",
       "        vertical-align: middle;\n",
       "    }\n",
       "\n",
       "    .dataframe tbody tr th {\n",
       "        vertical-align: top;\n",
       "    }\n",
       "\n",
       "    .dataframe thead th {\n",
       "        text-align: right;\n",
       "    }\n",
       "</style>\n",
       "<table border=\"1\" class=\"dataframe\">\n",
       "  <thead>\n",
       "    <tr style=\"text-align: right;\">\n",
       "      <th></th>\n",
       "      <th>Suction Pressure (psig)</th>\n",
       "      <th>Suction Temperature (F)</th>\n",
       "      <th>Total Flow (gpm)</th>\n",
       "      <th>Speed (rpm)</th>\n",
       "      <th>By-pass Valve Position (%)</th>\n",
       "      <th>Discharge Pressure (psig)</th>\n",
       "      <th>Discharge Temperature (F)</th>\n",
       "      <th>ln_Discharge Pressure (psig)</th>\n",
       "    </tr>\n",
       "  </thead>\n",
       "  <tbody>\n",
       "    <tr>\n",
       "      <th>0</th>\n",
       "      <td>596.100853</td>\n",
       "      <td>-229.436683</td>\n",
       "      <td>7925.800487</td>\n",
       "      <td>2999.411045</td>\n",
       "      <td>6.0</td>\n",
       "      <td>226.044931</td>\n",
       "      <td>-227.614448</td>\n",
       "      <td>5.420734</td>\n",
       "    </tr>\n",
       "    <tr>\n",
       "      <th>1</th>\n",
       "      <td>596.838217</td>\n",
       "      <td>-230.453708</td>\n",
       "      <td>8085.917724</td>\n",
       "      <td>2989.706617</td>\n",
       "      <td>6.0</td>\n",
       "      <td>217.150974</td>\n",
       "      <td>-228.668636</td>\n",
       "      <td>5.380593</td>\n",
       "    </tr>\n",
       "    <tr>\n",
       "      <th>2</th>\n",
       "      <td>596.468895</td>\n",
       "      <td>-229.545356</td>\n",
       "      <td>7902.175243</td>\n",
       "      <td>3006.331679</td>\n",
       "      <td>6.0</td>\n",
       "      <td>226.054086</td>\n",
       "      <td>-227.755324</td>\n",
       "      <td>5.420774</td>\n",
       "    </tr>\n",
       "    <tr>\n",
       "      <th>3</th>\n",
       "      <td>603.568271</td>\n",
       "      <td>-230.309438</td>\n",
       "      <td>7991.808959</td>\n",
       "      <td>3010.487486</td>\n",
       "      <td>6.0</td>\n",
       "      <td>226.016182</td>\n",
       "      <td>-228.489113</td>\n",
       "      <td>5.420607</td>\n",
       "    </tr>\n",
       "    <tr>\n",
       "      <th>4</th>\n",
       "      <td>595.407372</td>\n",
       "      <td>-229.767969</td>\n",
       "      <td>7871.560747</td>\n",
       "      <td>2986.665518</td>\n",
       "      <td>6.0</td>\n",
       "      <td>227.769383</td>\n",
       "      <td>-227.971795</td>\n",
       "      <td>5.428334</td>\n",
       "    </tr>\n",
       "  </tbody>\n",
       "</table>\n",
       "</div>"
      ],
      "text/plain": [
       "   Suction Pressure (psig)  Suction Temperature (F)  Total Flow (gpm)  \\\n",
       "0               596.100853              -229.436683       7925.800487   \n",
       "1               596.838217              -230.453708       8085.917724   \n",
       "2               596.468895              -229.545356       7902.175243   \n",
       "3               603.568271              -230.309438       7991.808959   \n",
       "4               595.407372              -229.767969       7871.560747   \n",
       "\n",
       "   Speed (rpm)  By-pass Valve Position (%)  Discharge Pressure (psig)  \\\n",
       "0  2999.411045                         6.0                 226.044931   \n",
       "1  2989.706617                         6.0                 217.150974   \n",
       "2  3006.331679                         6.0                 226.054086   \n",
       "3  3010.487486                         6.0                 226.016182   \n",
       "4  2986.665518                         6.0                 227.769383   \n",
       "\n",
       "   Discharge Temperature (F)  ln_Discharge Pressure (psig)  \n",
       "0                -227.614448                      5.420734  \n",
       "1                -228.668636                      5.380593  \n",
       "2                -227.755324                      5.420774  \n",
       "3                -228.489113                      5.420607  \n",
       "4                -227.971795                      5.428334  "
      ]
     },
     "execution_count": 79,
     "metadata": {},
     "output_type": "execute_result"
    }
   ],
   "source": [
    "data_new.head()"
   ]
  },
  {
   "cell_type": "code",
   "execution_count": 80,
   "metadata": {},
   "outputs": [],
   "source": [
    "# Renaming the columns of the data\n",
    "\n",
    "data_new.rename(columns={'ln_Discharge Pressure (psig)' : 'ln_Discharge_Pressure' ,'Suction Pressure (psig)' :'Suction_Pressure'\n",
    "                         ,'Suction Temperature (F)' : 'Suction_Temperature' , 'Total Flow (gpm)' : 'Total_Flow'\n",
    "                        , 'Speed (rpm)' : 'Speed', 'By-pass Valve Position (%)' : 'By_pass_Valve_Position' \n",
    "                         , 'Discharge Temperature (F)' : 'Discharge_Temperature'} , inplace = True)"
   ]
  },
  {
   "cell_type": "code",
   "execution_count": 81,
   "metadata": {},
   "outputs": [
    {
     "data": {
      "text/html": [
       "<div>\n",
       "<style scoped>\n",
       "    .dataframe tbody tr th:only-of-type {\n",
       "        vertical-align: middle;\n",
       "    }\n",
       "\n",
       "    .dataframe tbody tr th {\n",
       "        vertical-align: top;\n",
       "    }\n",
       "\n",
       "    .dataframe thead th {\n",
       "        text-align: right;\n",
       "    }\n",
       "</style>\n",
       "<table border=\"1\" class=\"dataframe\">\n",
       "  <thead>\n",
       "    <tr style=\"text-align: right;\">\n",
       "      <th></th>\n",
       "      <th>Suction_Pressure</th>\n",
       "      <th>Suction_Temperature</th>\n",
       "      <th>Total_Flow</th>\n",
       "      <th>Speed</th>\n",
       "      <th>By_pass_Valve_Position</th>\n",
       "      <th>Discharge Pressure (psig)</th>\n",
       "      <th>Discharge_Temperature</th>\n",
       "      <th>ln_Discharge_Pressure</th>\n",
       "    </tr>\n",
       "  </thead>\n",
       "  <tbody>\n",
       "    <tr>\n",
       "      <th>0</th>\n",
       "      <td>596.100853</td>\n",
       "      <td>-229.436683</td>\n",
       "      <td>7925.800487</td>\n",
       "      <td>2999.411045</td>\n",
       "      <td>6.0</td>\n",
       "      <td>226.044931</td>\n",
       "      <td>-227.614448</td>\n",
       "      <td>5.420734</td>\n",
       "    </tr>\n",
       "    <tr>\n",
       "      <th>1</th>\n",
       "      <td>596.838217</td>\n",
       "      <td>-230.453708</td>\n",
       "      <td>8085.917724</td>\n",
       "      <td>2989.706617</td>\n",
       "      <td>6.0</td>\n",
       "      <td>217.150974</td>\n",
       "      <td>-228.668636</td>\n",
       "      <td>5.380593</td>\n",
       "    </tr>\n",
       "    <tr>\n",
       "      <th>2</th>\n",
       "      <td>596.468895</td>\n",
       "      <td>-229.545356</td>\n",
       "      <td>7902.175243</td>\n",
       "      <td>3006.331679</td>\n",
       "      <td>6.0</td>\n",
       "      <td>226.054086</td>\n",
       "      <td>-227.755324</td>\n",
       "      <td>5.420774</td>\n",
       "    </tr>\n",
       "    <tr>\n",
       "      <th>3</th>\n",
       "      <td>603.568271</td>\n",
       "      <td>-230.309438</td>\n",
       "      <td>7991.808959</td>\n",
       "      <td>3010.487486</td>\n",
       "      <td>6.0</td>\n",
       "      <td>226.016182</td>\n",
       "      <td>-228.489113</td>\n",
       "      <td>5.420607</td>\n",
       "    </tr>\n",
       "    <tr>\n",
       "      <th>4</th>\n",
       "      <td>595.407372</td>\n",
       "      <td>-229.767969</td>\n",
       "      <td>7871.560747</td>\n",
       "      <td>2986.665518</td>\n",
       "      <td>6.0</td>\n",
       "      <td>227.769383</td>\n",
       "      <td>-227.971795</td>\n",
       "      <td>5.428334</td>\n",
       "    </tr>\n",
       "  </tbody>\n",
       "</table>\n",
       "</div>"
      ],
      "text/plain": [
       "   Suction_Pressure  Suction_Temperature   Total_Flow        Speed  \\\n",
       "0        596.100853          -229.436683  7925.800487  2999.411045   \n",
       "1        596.838217          -230.453708  8085.917724  2989.706617   \n",
       "2        596.468895          -229.545356  7902.175243  3006.331679   \n",
       "3        603.568271          -230.309438  7991.808959  3010.487486   \n",
       "4        595.407372          -229.767969  7871.560747  2986.665518   \n",
       "\n",
       "   By_pass_Valve_Position  Discharge Pressure (psig)  Discharge_Temperature  \\\n",
       "0                     6.0                 226.044931            -227.614448   \n",
       "1                     6.0                 217.150974            -228.668636   \n",
       "2                     6.0                 226.054086            -227.755324   \n",
       "3                     6.0                 226.016182            -228.489113   \n",
       "4                     6.0                 227.769383            -227.971795   \n",
       "\n",
       "   ln_Discharge_Pressure  \n",
       "0               5.420734  \n",
       "1               5.380593  \n",
       "2               5.420774  \n",
       "3               5.420607  \n",
       "4               5.428334  "
      ]
     },
     "execution_count": 81,
     "metadata": {},
     "output_type": "execute_result"
    }
   ],
   "source": [
    "data_new.head()"
   ]
  },
  {
   "cell_type": "markdown",
   "metadata": {},
   "source": [
    "### spliting the data for model building"
   ]
  },
  {
   "cell_type": "code",
   "execution_count": 82,
   "metadata": {},
   "outputs": [],
   "source": [
    "# splitting the data: separate out the feature/input/independant columns and dependant variable\n",
    "\n",
    "feature_columns = data_new.columns.difference(['ln_Discharge_Pressure', 'Discharge Pressure (psig)'])"
   ]
  },
  {
   "cell_type": "code",
   "execution_count": 83,
   "metadata": {},
   "outputs": [],
   "source": [
    "# method 1: divide the data into training and testing and separate out X and Y variables\n",
    "# this will be used in sklearn related functions if required\n",
    "\n",
    "train_X, test_X, train_y, test_y = train_test_split(data_new[feature_columns], \n",
    "                                            data_new['ln_Discharge_Pressure'], test_size = 0.3, random_state = 12345)"
   ]
  },
  {
   "cell_type": "code",
   "execution_count": 84,
   "metadata": {},
   "outputs": [],
   "source": [
    "# method 2: divide the data into training and testing\n",
    "\n",
    "train, test = train_test_split(data_new, test_size = 0.3, random_state = 12345)"
   ]
  },
  {
   "cell_type": "code",
   "execution_count": 85,
   "metadata": {},
   "outputs": [
    {
     "name": "stdout",
     "output_type": "stream",
     "text": [
      "No of obs in training:  207515  |  No of obs in testing:  88935\n"
     ]
    }
   ],
   "source": [
    "# verify the number of observations in training and testing after split\n",
    "\n",
    "print('No of obs in training: ', len(train), ' | ', 'No of obs in testing: ', len(test))"
   ]
  },
  {
   "cell_type": "markdown",
   "metadata": {},
   "source": [
    "# Building a Regression Model"
   ]
  },
  {
   "cell_type": "code",
   "execution_count": 86,
   "metadata": {},
   "outputs": [],
   "source": [
    "# Step 1: defining Y, X and building a ols model\n",
    "\n",
    "model_param = '''ln_Discharge_Pressure ~ Suction_Pressure + Suction_Temperature + Total_Flow \n",
    "                                         + Speed + By_pass_Valve_Position + Discharge_Temperature'''"
   ]
  },
  {
   "cell_type": "code",
   "execution_count": 87,
   "metadata": {},
   "outputs": [],
   "source": [
    "# Step 2: fitting the model\n",
    "\n",
    "lm1 = smf.ols(model_param , train).fit()"
   ]
  },
  {
   "cell_type": "code",
   "execution_count": 88,
   "metadata": {
    "scrolled": true
   },
   "outputs": [
    {
     "name": "stdout",
     "output_type": "stream",
     "text": [
      "                              OLS Regression Results                             \n",
      "=================================================================================\n",
      "Dep. Variable:     ln_Discharge_Pressure   R-squared:                       0.963\n",
      "Model:                               OLS   Adj. R-squared:                  0.963\n",
      "Method:                    Least Squares   F-statistic:                 8.948e+05\n",
      "Date:                   Sun, 02 Feb 2020   Prob (F-statistic):               0.00\n",
      "Time:                           09:38:04   Log-Likelihood:             2.8730e+05\n",
      "No. Observations:                 207515   AIC:                        -5.746e+05\n",
      "Df Residuals:                     207508   BIC:                        -5.745e+05\n",
      "Df Model:                              6                                         \n",
      "Covariance Type:               nonrobust                                         \n",
      "==========================================================================================\n",
      "                             coef    std err          t      P>|t|      [0.025      0.975]\n",
      "------------------------------------------------------------------------------------------\n",
      "Intercept                 12.0477      0.035    346.637      0.000      11.980      12.116\n",
      "Suction_Pressure           0.0023   1.49e-05    153.700      0.000       0.002       0.002\n",
      "Suction_Temperature        0.0374      0.010      3.693      0.000       0.018       0.057\n",
      "Total_Flow                -0.0004   1.06e-06   -393.306      0.000      -0.000      -0.000\n",
      "Speed                      0.0005   3.49e-06    133.929      0.000       0.000       0.000\n",
      "By_pass_Valve_Position     0.0164   7.69e-05    213.491      0.000       0.016       0.017\n",
      "Discharge_Temperature     -0.0104      0.010     -1.031      0.302      -0.030       0.009\n",
      "==============================================================================\n",
      "Omnibus:                    24804.831   Durbin-Watson:                   2.003\n",
      "Prob(Omnibus):                  0.000   Jarque-Bera (JB):            34848.696\n",
      "Skew:                          -0.947   Prob(JB):                         0.00\n",
      "Kurtosis:                       3.668   Cond. No.                     2.33e+06\n",
      "==============================================================================\n",
      "\n",
      "Warnings:\n",
      "[1] Standard Errors assume that the covariance matrix of the errors is correctly specified.\n",
      "[2] The condition number is large, 2.33e+06. This might indicate that there are\n",
      "strong multicollinearity or other numerical problems.\n"
     ]
    }
   ],
   "source": [
    "# Step 3: getting the output summary of the model\n",
    "\n",
    "print(lm1.summary())"
   ]
  },
  {
   "cell_type": "code",
   "execution_count": 89,
   "metadata": {},
   "outputs": [
    {
     "name": "stderr",
     "output_type": "stream",
     "text": [
      "C:\\Users\\yoosha\\Anaconda3\\lib\\site-packages\\ipykernel_launcher.py:3: SettingWithCopyWarning: \n",
      "A value is trying to be set on a copy of a slice from a DataFrame.\n",
      "Try using .loc[row_indexer,col_indexer] = value instead\n",
      "\n",
      "See the caveats in the documentation: http://pandas.pydata.org/pandas-docs/stable/indexing.html#indexing-view-versus-copy\n",
      "  This is separate from the ipykernel package so we can avoid doing imports until\n"
     ]
    }
   ],
   "source": [
    "# Step 4: predicting the sales on the training data\n",
    "\n",
    "train['pred_Discharge_Pressure'] = np.exp(lm1.predict(train))"
   ]
  },
  {
   "cell_type": "code",
   "execution_count": 90,
   "metadata": {},
   "outputs": [
    {
     "name": "stderr",
     "output_type": "stream",
     "text": [
      "C:\\Users\\yoosha\\Anaconda3\\lib\\site-packages\\ipykernel_launcher.py:3: SettingWithCopyWarning: \n",
      "A value is trying to be set on a copy of a slice from a DataFrame.\n",
      "Try using .loc[row_indexer,col_indexer] = value instead\n",
      "\n",
      "See the caveats in the documentation: http://pandas.pydata.org/pandas-docs/stable/indexing.html#indexing-view-versus-copy\n",
      "  This is separate from the ipykernel package so we can avoid doing imports until\n"
     ]
    }
   ],
   "source": [
    "# Step 5: predicting the sales on the testing/validation data\n",
    "\n",
    "test['pred_Discharge_Pressure'] = np.exp(lm1.predict(test))"
   ]
  },
  {
   "cell_type": "code",
   "execution_count": 91,
   "metadata": {},
   "outputs": [
    {
     "name": "stdout",
     "output_type": "stream",
     "text": [
      "MAPE of training data:  0.04743196364844061  |  MAPE of testing data:  0.04741837766543699\n"
     ]
    }
   ],
   "source": [
    "# Step 6: accuracy metrics (a. MAPE: Mean Absolute Percentage Error)\n",
    "\n",
    "MAPE_train = np.mean(np.abs(train['Discharge Pressure (psig)'] - train['pred_Discharge_Pressure'])/train['Discharge Pressure (psig)'])\n",
    "MAPE_test = np.mean(np.abs(test['Discharge Pressure (psig)'] - test['pred_Discharge_Pressure'])/test['Discharge Pressure (psig)'])\n",
    "\n",
    "# print the values of MAPE for train and test\n",
    "print('MAPE of training data: ', MAPE_train,  ' | ', 'MAPE of testing data: ', MAPE_test)"
   ]
  },
  {
   "cell_type": "code",
   "execution_count": 92,
   "metadata": {},
   "outputs": [
    {
     "name": "stderr",
     "output_type": "stream",
     "text": [
      "C:\\Users\\yoosha\\Anaconda3\\lib\\site-packages\\ipykernel_launcher.py:4: SettingWithCopyWarning: \n",
      "A value is trying to be set on a copy of a slice from a DataFrame.\n",
      "Try using .loc[row_indexer,col_indexer] = value instead\n",
      "\n",
      "See the caveats in the documentation: http://pandas.pydata.org/pandas-docs/stable/indexing.html#indexing-view-versus-copy\n",
      "  after removing the cwd from sys.path.\n",
      "C:\\Users\\yoosha\\Anaconda3\\lib\\site-packages\\ipykernel_launcher.py:5: SettingWithCopyWarning: \n",
      "A value is trying to be set on a copy of a slice from a DataFrame.\n",
      "Try using .loc[row_indexer,col_indexer] = value instead\n",
      "\n",
      "See the caveats in the documentation: http://pandas.pydata.org/pandas-docs/stable/indexing.html#indexing-view-versus-copy\n",
      "  \"\"\"\n"
     ]
    }
   ],
   "source": [
    "# Step 7: accuracy metrics (d. Decile Analysis: for validation of models - Business validation)\n",
    "\n",
    "# create the 10 groups in the data\n",
    "train['Deciles'] = pd.qcut(train['pred_Discharge_Pressure'], 10, labels = False)\n",
    "test['Deciles'] = pd.qcut(test['pred_Discharge_Pressure'], 10, labels = False)\n",
    "\n",
    "# Decile Analysis for train data\n",
    "Predicted_avg = train[['Deciles', 'pred_Discharge_Pressure']].groupby(train.Deciles).mean().sort_index(ascending = False)['pred_Discharge_Pressure']\n",
    "Actual_avg = train[['Deciles', 'Discharge Pressure (psig)']].groupby(train.Deciles).mean().sort_index(ascending = False)['Discharge Pressure (psig)']\n",
    "Decile_analysis_train = pd.concat([Predicted_avg, Actual_avg], axis = 1).reset_index()\n",
    "\n",
    "# Decile Analysis for test data\n",
    "Predicted_avg = test[['Deciles', 'pred_Discharge_Pressure']].groupby(test.Deciles).mean().sort_index(ascending = False)['pred_Discharge_Pressure']\n",
    "Actual_avg = test[['Deciles', 'Discharge Pressure (psig)']].groupby(test.Deciles).mean().sort_index(ascending = False)['Discharge Pressure (psig)']\n",
    "Decile_analysis_test = pd.concat([Predicted_avg, Actual_avg], axis = 1).reset_index()\n",
    "\n",
    "# Displaying the data into the file\n",
    "\n",
    "# Decile_analysis_train.to_csv('Decile_analysis_train.csv')\n",
    "# Decile_analysis_test.to_csv('Decile_analysis_test.csv')"
   ]
  },
  {
   "cell_type": "code",
   "execution_count": 93,
   "metadata": {},
   "outputs": [
    {
     "data": {
      "text/html": [
       "<div>\n",
       "<style scoped>\n",
       "    .dataframe tbody tr th:only-of-type {\n",
       "        vertical-align: middle;\n",
       "    }\n",
       "\n",
       "    .dataframe tbody tr th {\n",
       "        vertical-align: top;\n",
       "    }\n",
       "\n",
       "    .dataframe thead th {\n",
       "        text-align: right;\n",
       "    }\n",
       "</style>\n",
       "<table border=\"1\" class=\"dataframe\">\n",
       "  <thead>\n",
       "    <tr style=\"text-align: right;\">\n",
       "      <th></th>\n",
       "      <th>Deciles</th>\n",
       "      <th>pred_Discharge_Pressure</th>\n",
       "      <th>Discharge Pressure (psig)</th>\n",
       "    </tr>\n",
       "  </thead>\n",
       "  <tbody>\n",
       "    <tr>\n",
       "      <th>0</th>\n",
       "      <td>9</td>\n",
       "      <td>324.619616</td>\n",
       "      <td>294.997016</td>\n",
       "    </tr>\n",
       "    <tr>\n",
       "      <th>1</th>\n",
       "      <td>8</td>\n",
       "      <td>240.749782</td>\n",
       "      <td>243.316864</td>\n",
       "    </tr>\n",
       "    <tr>\n",
       "      <th>2</th>\n",
       "      <td>7</td>\n",
       "      <td>214.560404</td>\n",
       "      <td>223.723362</td>\n",
       "    </tr>\n",
       "    <tr>\n",
       "      <th>3</th>\n",
       "      <td>6</td>\n",
       "      <td>199.650010</td>\n",
       "      <td>209.467052</td>\n",
       "    </tr>\n",
       "    <tr>\n",
       "      <th>4</th>\n",
       "      <td>5</td>\n",
       "      <td>184.613966</td>\n",
       "      <td>191.894655</td>\n",
       "    </tr>\n",
       "    <tr>\n",
       "      <th>5</th>\n",
       "      <td>4</td>\n",
       "      <td>171.171659</td>\n",
       "      <td>175.418789</td>\n",
       "    </tr>\n",
       "    <tr>\n",
       "      <th>6</th>\n",
       "      <td>3</td>\n",
       "      <td>154.546738</td>\n",
       "      <td>156.012744</td>\n",
       "    </tr>\n",
       "    <tr>\n",
       "      <th>7</th>\n",
       "      <td>2</td>\n",
       "      <td>144.231988</td>\n",
       "      <td>143.034010</td>\n",
       "    </tr>\n",
       "    <tr>\n",
       "      <th>8</th>\n",
       "      <td>1</td>\n",
       "      <td>132.971966</td>\n",
       "      <td>133.678573</td>\n",
       "    </tr>\n",
       "    <tr>\n",
       "      <th>9</th>\n",
       "      <td>0</td>\n",
       "      <td>104.940959</td>\n",
       "      <td>98.314909</td>\n",
       "    </tr>\n",
       "  </tbody>\n",
       "</table>\n",
       "</div>"
      ],
      "text/plain": [
       "   Deciles  pred_Discharge_Pressure  Discharge Pressure (psig)\n",
       "0        9               324.619616                 294.997016\n",
       "1        8               240.749782                 243.316864\n",
       "2        7               214.560404                 223.723362\n",
       "3        6               199.650010                 209.467052\n",
       "4        5               184.613966                 191.894655\n",
       "5        4               171.171659                 175.418789\n",
       "6        3               154.546738                 156.012744\n",
       "7        2               144.231988                 143.034010\n",
       "8        1               132.971966                 133.678573\n",
       "9        0               104.940959                  98.314909"
      ]
     },
     "execution_count": 93,
     "metadata": {},
     "output_type": "execute_result"
    }
   ],
   "source": [
    "Decile_analysis_train"
   ]
  },
  {
   "cell_type": "code",
   "execution_count": 94,
   "metadata": {},
   "outputs": [
    {
     "data": {
      "text/html": [
       "<div>\n",
       "<style scoped>\n",
       "    .dataframe tbody tr th:only-of-type {\n",
       "        vertical-align: middle;\n",
       "    }\n",
       "\n",
       "    .dataframe tbody tr th {\n",
       "        vertical-align: top;\n",
       "    }\n",
       "\n",
       "    .dataframe thead th {\n",
       "        text-align: right;\n",
       "    }\n",
       "</style>\n",
       "<table border=\"1\" class=\"dataframe\">\n",
       "  <thead>\n",
       "    <tr style=\"text-align: right;\">\n",
       "      <th></th>\n",
       "      <th>Deciles</th>\n",
       "      <th>pred_Discharge_Pressure</th>\n",
       "      <th>Discharge Pressure (psig)</th>\n",
       "    </tr>\n",
       "  </thead>\n",
       "  <tbody>\n",
       "    <tr>\n",
       "      <th>0</th>\n",
       "      <td>9</td>\n",
       "      <td>325.006398</td>\n",
       "      <td>295.206061</td>\n",
       "    </tr>\n",
       "    <tr>\n",
       "      <th>1</th>\n",
       "      <td>8</td>\n",
       "      <td>240.967757</td>\n",
       "      <td>243.570938</td>\n",
       "    </tr>\n",
       "    <tr>\n",
       "      <th>2</th>\n",
       "      <td>7</td>\n",
       "      <td>214.413160</td>\n",
       "      <td>223.588048</td>\n",
       "    </tr>\n",
       "    <tr>\n",
       "      <th>3</th>\n",
       "      <td>6</td>\n",
       "      <td>199.623902</td>\n",
       "      <td>209.423281</td>\n",
       "    </tr>\n",
       "    <tr>\n",
       "      <th>4</th>\n",
       "      <td>5</td>\n",
       "      <td>184.708608</td>\n",
       "      <td>191.938840</td>\n",
       "    </tr>\n",
       "    <tr>\n",
       "      <th>5</th>\n",
       "      <td>4</td>\n",
       "      <td>171.057300</td>\n",
       "      <td>175.336412</td>\n",
       "    </tr>\n",
       "    <tr>\n",
       "      <th>6</th>\n",
       "      <td>3</td>\n",
       "      <td>154.382939</td>\n",
       "      <td>155.837041</td>\n",
       "    </tr>\n",
       "    <tr>\n",
       "      <th>7</th>\n",
       "      <td>2</td>\n",
       "      <td>144.251680</td>\n",
       "      <td>143.012210</td>\n",
       "    </tr>\n",
       "    <tr>\n",
       "      <th>8</th>\n",
       "      <td>1</td>\n",
       "      <td>133.193819</td>\n",
       "      <td>133.711614</td>\n",
       "    </tr>\n",
       "    <tr>\n",
       "      <th>9</th>\n",
       "      <td>0</td>\n",
       "      <td>104.989386</td>\n",
       "      <td>98.373700</td>\n",
       "    </tr>\n",
       "  </tbody>\n",
       "</table>\n",
       "</div>"
      ],
      "text/plain": [
       "   Deciles  pred_Discharge_Pressure  Discharge Pressure (psig)\n",
       "0        9               325.006398                 295.206061\n",
       "1        8               240.967757                 243.570938\n",
       "2        7               214.413160                 223.588048\n",
       "3        6               199.623902                 209.423281\n",
       "4        5               184.708608                 191.938840\n",
       "5        4               171.057300                 175.336412\n",
       "6        3               154.382939                 155.837041\n",
       "7        2               144.251680                 143.012210\n",
       "8        1               133.193819                 133.711614\n",
       "9        0               104.989386                  98.373700"
      ]
     },
     "execution_count": 94,
     "metadata": {},
     "output_type": "execute_result"
    }
   ],
   "source": [
    "Decile_analysis_test"
   ]
  },
  {
   "cell_type": "markdown",
   "metadata": {},
   "source": [
    "####  VIF (Variance Inflation Factor): Check the multicollinieirity for all the variables in the model"
   ]
  },
  {
   "cell_type": "code",
   "execution_count": 95,
   "metadata": {},
   "outputs": [
    {
     "data": {
      "text/html": [
       "<div>\n",
       "<style scoped>\n",
       "    .dataframe tbody tr th:only-of-type {\n",
       "        vertical-align: middle;\n",
       "    }\n",
       "\n",
       "    .dataframe tbody tr th {\n",
       "        vertical-align: top;\n",
       "    }\n",
       "\n",
       "    .dataframe thead th {\n",
       "        text-align: right;\n",
       "    }\n",
       "</style>\n",
       "<table border=\"1\" class=\"dataframe\">\n",
       "  <thead>\n",
       "    <tr style=\"text-align: right;\">\n",
       "      <th></th>\n",
       "      <th>Features</th>\n",
       "      <th>VIF Factor</th>\n",
       "    </tr>\n",
       "  </thead>\n",
       "  <tbody>\n",
       "    <tr>\n",
       "      <th>0</th>\n",
       "      <td>Intercept</td>\n",
       "      <td>68251.1</td>\n",
       "    </tr>\n",
       "    <tr>\n",
       "      <th>1</th>\n",
       "      <td>Suction_Pressure</td>\n",
       "      <td>6.7</td>\n",
       "    </tr>\n",
       "    <tr>\n",
       "      <th>2</th>\n",
       "      <td>Suction_Temperature</td>\n",
       "      <td>73641.8</td>\n",
       "    </tr>\n",
       "    <tr>\n",
       "      <th>3</th>\n",
       "      <td>Total_Flow</td>\n",
       "      <td>9.9</td>\n",
       "    </tr>\n",
       "    <tr>\n",
       "      <th>4</th>\n",
       "      <td>Speed</td>\n",
       "      <td>2.0</td>\n",
       "    </tr>\n",
       "    <tr>\n",
       "      <th>5</th>\n",
       "      <td>By_pass_Valve_Position</td>\n",
       "      <td>2.1</td>\n",
       "    </tr>\n",
       "    <tr>\n",
       "      <th>6</th>\n",
       "      <td>Discharge_Temperature</td>\n",
       "      <td>73634.9</td>\n",
       "    </tr>\n",
       "  </tbody>\n",
       "</table>\n",
       "</div>"
      ],
      "text/plain": [
       "                 Features  VIF Factor\n",
       "0               Intercept     68251.1\n",
       "1        Suction_Pressure         6.7\n",
       "2     Suction_Temperature     73641.8\n",
       "3              Total_Flow         9.9\n",
       "4                   Speed         2.0\n",
       "5  By_pass_Valve_Position         2.1\n",
       "6   Discharge_Temperature     73634.9"
      ]
     },
     "execution_count": 95,
     "metadata": {},
     "output_type": "execute_result"
    }
   ],
   "source": [
    "# High VIF of the variable means information in that variable has already been explained by \n",
    "# other X variables present in the model\n",
    "\n",
    "# importing the packages for vif\n",
    "from statsmodels.stats.outliers_influence import variance_inflation_factor\n",
    "from patsy import dmatrices\n",
    "\n",
    "# separating the Y and X variables\n",
    "y, X = dmatrices(model_param, train, return_type = 'dataframe')\n",
    "\n",
    "# For each X, calculating VIF and save in a dataframe\n",
    "vif = pd.DataFrame()\n",
    "vif['Features'] = X.columns\n",
    "vif['VIF Factor'] = [variance_inflation_factor(X.values, i) for i in range(X.shape[1])]\n",
    "\n",
    "# displaying the output\n",
    "vif.round(1)"
   ]
  },
  {
   "cell_type": "markdown",
   "metadata": {},
   "source": [
    "Since two variables i.e. Suction_Pressure and Discharge_Temperature shows high VIF value these variables shows high collinearity."
   ]
  },
  {
   "cell_type": "markdown",
   "metadata": {},
   "source": [
    "### feature selection based on importance using F - Regression"
   ]
  },
  {
   "cell_type": "code",
   "execution_count": 96,
   "metadata": {},
   "outputs": [],
   "source": [
    "# Feature Selection based on importance\n",
    "from sklearn.feature_selection import f_regression\n",
    "features = train_X\n",
    "target = train_y\n",
    "F_values, p_values  = f_regression(features, target )"
   ]
  },
  {
   "cell_type": "code",
   "execution_count": 97,
   "metadata": {},
   "outputs": [
    {
     "data": {
      "text/html": [
       "<div>\n",
       "<style scoped>\n",
       "    .dataframe tbody tr th:only-of-type {\n",
       "        vertical-align: middle;\n",
       "    }\n",
       "\n",
       "    .dataframe tbody tr th {\n",
       "        vertical-align: top;\n",
       "    }\n",
       "\n",
       "    .dataframe thead th {\n",
       "        text-align: right;\n",
       "    }\n",
       "</style>\n",
       "<table border=\"1\" class=\"dataframe\">\n",
       "  <thead>\n",
       "    <tr style=\"text-align: right;\">\n",
       "      <th></th>\n",
       "      <th>Variable</th>\n",
       "      <th>F_Value</th>\n",
       "      <th>P_Value</th>\n",
       "    </tr>\n",
       "  </thead>\n",
       "  <tbody>\n",
       "    <tr>\n",
       "      <th>0</th>\n",
       "      <td>By_pass_Valve_Position</td>\n",
       "      <td>4.209281e+04</td>\n",
       "      <td>0.000</td>\n",
       "    </tr>\n",
       "    <tr>\n",
       "      <th>1</th>\n",
       "      <td>Discharge_Temperature</td>\n",
       "      <td>1.882952e+06</td>\n",
       "      <td>0.000</td>\n",
       "    </tr>\n",
       "    <tr>\n",
       "      <th>2</th>\n",
       "      <td>Speed</td>\n",
       "      <td>3.182517e+04</td>\n",
       "      <td>0.000</td>\n",
       "    </tr>\n",
       "    <tr>\n",
       "      <th>3</th>\n",
       "      <td>Suction_Pressure</td>\n",
       "      <td>6.617709e+05</td>\n",
       "      <td>0.000</td>\n",
       "    </tr>\n",
       "    <tr>\n",
       "      <th>4</th>\n",
       "      <td>Suction_Temperature</td>\n",
       "      <td>1.883263e+06</td>\n",
       "      <td>0.000</td>\n",
       "    </tr>\n",
       "    <tr>\n",
       "      <th>5</th>\n",
       "      <td>Total_Flow</td>\n",
       "      <td>2.201959e+06</td>\n",
       "      <td>0.000</td>\n",
       "    </tr>\n",
       "  </tbody>\n",
       "</table>\n",
       "</div>"
      ],
      "text/plain": [
       "                 Variable       F_Value P_Value\n",
       "0  By_pass_Valve_Position  4.209281e+04   0.000\n",
       "1   Discharge_Temperature  1.882952e+06   0.000\n",
       "2                   Speed  3.182517e+04   0.000\n",
       "3        Suction_Pressure  6.617709e+05   0.000\n",
       "4     Suction_Temperature  1.883263e+06   0.000\n",
       "5              Total_Flow  2.201959e+06   0.000"
      ]
     },
     "execution_count": 97,
     "metadata": {},
     "output_type": "execute_result"
    }
   ],
   "source": [
    "import itertools\n",
    "f_reg_results = [(i, v, z) for i, v, z in itertools.zip_longest(features.columns, F_values,  ['%.3f' % p for p in p_values])]\n",
    "f_reg_results=pd.DataFrame(f_reg_results, columns=['Variable','F_Value', 'P_Value'])\n",
    "f_reg_results"
   ]
  },
  {
   "cell_type": "markdown",
   "metadata": {},
   "source": [
    "Since all the p - values are zero, all the variables are siginificant in the regression equation."
   ]
  },
  {
   "cell_type": "markdown",
   "metadata": {},
   "source": [
    "#### Execute the model on training and testing samples"
   ]
  },
  {
   "cell_type": "code",
   "execution_count": 98,
   "metadata": {},
   "outputs": [
    {
     "name": "stderr",
     "output_type": "stream",
     "text": [
      "C:\\Users\\yoosha\\Anaconda3\\lib\\site-packages\\ipykernel_launcher.py:2: SettingWithCopyWarning: \n",
      "A value is trying to be set on a copy of a slice from a DataFrame.\n",
      "Try using .loc[row_indexer,col_indexer] = value instead\n",
      "\n",
      "See the caveats in the documentation: http://pandas.pydata.org/pandas-docs/stable/indexing.html#indexing-view-versus-copy\n",
      "  \n"
     ]
    }
   ],
   "source": [
    "# Step 1: predicting the sales on the training data\n",
    "train['pred_Discharge_Pressure'] = np.exp(lm1.predict(train))"
   ]
  },
  {
   "cell_type": "code",
   "execution_count": 99,
   "metadata": {},
   "outputs": [
    {
     "name": "stderr",
     "output_type": "stream",
     "text": [
      "C:\\Users\\yoosha\\Anaconda3\\lib\\site-packages\\ipykernel_launcher.py:2: SettingWithCopyWarning: \n",
      "A value is trying to be set on a copy of a slice from a DataFrame.\n",
      "Try using .loc[row_indexer,col_indexer] = value instead\n",
      "\n",
      "See the caveats in the documentation: http://pandas.pydata.org/pandas-docs/stable/indexing.html#indexing-view-versus-copy\n",
      "  \n"
     ]
    }
   ],
   "source": [
    "# Step 2: predicting the sales on the testing/validation data\n",
    "test['pred_Discharge_Pressure'] = np.exp(lm1.predict(test))"
   ]
  },
  {
   "cell_type": "markdown",
   "metadata": {},
   "source": [
    "#### model validation for prediction"
   ]
  },
  {
   "cell_type": "code",
   "execution_count": 100,
   "metadata": {},
   "outputs": [
    {
     "name": "stdout",
     "output_type": "stream",
     "text": [
      "RMSE of training data:  12.714873180649503  |  RMSE of testing data:  12.75049018665557\n"
     ]
    }
   ],
   "source": [
    "# Step 3: accuracy metrics (b. RMSE: Root Mean Squared Error)\n",
    "RMSE_train = np.sqrt(mean_squared_error(train['Discharge Pressure (psig)'] ,train.pred_Discharge_Pressure).round(3))\n",
    "RMSE_test = np.sqrt(mean_squared_error(test['Discharge Pressure (psig)'] ,test.pred_Discharge_Pressure).round(3))\n",
    "\n",
    "# printing the values of RMSE for train and test\n",
    "print('RMSE of training data: ', RMSE_train,  ' | ', 'RMSE of testing data: ', RMSE_test)"
   ]
  },
  {
   "cell_type": "code",
   "execution_count": 101,
   "metadata": {},
   "outputs": [
    {
     "name": "stdout",
     "output_type": "stream",
     "text": [
      "Correlation of training data:  (0.9790945929255052, 0.0)  |  Correlation of testing data:  (0.9790945929255052, 0.0)\n"
     ]
    }
   ],
   "source": [
    "# Step 4: accuracy metrics (c. Correlation)\n",
    "Corr_train = stats.stats.pearsonr(train['Discharge Pressure (psig)'] , train.pred_Discharge_Pressure)\n",
    "Corr_test = stats.stats.pearsonr(train['Discharge Pressure (psig)'] , train.pred_Discharge_Pressure)\n",
    "\n",
    "# printing the values of Correlation for train and test\n",
    "print('Correlation of training data: ', Corr_train,  ' | ', 'Correlation of testing data: ', Corr_test)"
   ]
  },
  {
   "cell_type": "markdown",
   "metadata": {},
   "source": [
    "#### Validate the poor model performance due of LM assumptions"
   ]
  },
  {
   "cell_type": "code",
   "execution_count": 102,
   "metadata": {
    "scrolled": true
   },
   "outputs": [
    {
     "data": {
      "image/png": "[encoded data removed]",
      "text/plain": [
       "<Figure size 432x288 with 1 Axes>"
      ]
     },
     "metadata": {
      "needs_background": "light"
     },
     "output_type": "display_data"
    }
   ],
   "source": [
    "# assumption: Normality of the residuals/error (using distribution plot)\n",
    "sns.distplot(lm1.resid)\n",
    "plt.show()"
   ]
  },
  {
   "cell_type": "code",
   "execution_count": 103,
   "metadata": {},
   "outputs": [
    {
     "data": {
      "image/png": "[encoded data removed]",
      "text/plain": [
       "<Figure size 432x288 with 1 Axes>"
      ]
     },
     "metadata": {
      "needs_background": "light"
     },
     "output_type": "display_data"
    }
   ],
   "source": [
    "# assumption: Normality of the residuals/errors (using Q-Q plot)\n",
    "from scipy import stats\n",
    "import pylab\n",
    "\n",
    "stats.probplot(lm1.resid, dist = 'norm', plot = pylab)\n",
    "pylab.show()\n",
    "\n",
    "# If errors are normally and randomly distributed, they would be following a straight line pattern\n",
    "# Q-Q plot shows if the residuals are plotted along the line"
   ]
  },
  {
   "cell_type": "code",
   "execution_count": 104,
   "metadata": {},
   "outputs": [
    {
     "name": "stdout",
     "output_type": "stream",
     "text": [
      "8.265946537465544e-14\n"
     ]
    }
   ],
   "source": [
    "# assumption: mean of residuals/errors is zero\n",
    "\n",
    "print(lm1.resid.mean())"
   ]
  },
  {
   "cell_type": "code",
   "execution_count": 105,
   "metadata": {},
   "outputs": [
    {
     "name": "stdout",
     "output_type": "stream",
     "text": [
      "(0.19290322631263035, 0.0)\n"
     ]
    }
   ],
   "source": [
    "# assumption: residuals/errors of the model should not be correlated with dependant (Y) variable\n",
    "\n",
    "print(stats.stats.pearsonr(lm1.resid, train.ln_Discharge_Pressure))"
   ]
  },
  {
   "cell_type": "code",
   "execution_count": 106,
   "metadata": {},
   "outputs": [
    {
     "data": {
      "image/png": "[encoded data removed]",
      "text/plain": [
       "<Figure size 432x288 with 1 Axes>"
      ]
     },
     "metadata": {
      "needs_background": "light"
     },
     "output_type": "display_data"
    }
   ],
   "source": [
    "# assumption: homoscedasticity of residuals/errors\n",
    "\n",
    "sns.scatterplot(lm1.resid, train.ln_Discharge_Pressure)\n",
    "plt.show()"
   ]
  },
  {
   "cell_type": "markdown",
   "metadata": {},
   "source": [
    "# Linear Regression Model"
   ]
  },
  {
   "cell_type": "code",
   "execution_count": 107,
   "metadata": {},
   "outputs": [
    {
     "name": "stdout",
     "output_type": "stream",
     "text": [
      "score:96.28 percent\n"
     ]
    }
   ],
   "source": [
    "clf_linear= LinearRegression()\n",
    "clf_linear.fit(train_X, train_y)\n",
    "y_pred_linear=clf_linear.predict(test_X)\n",
    "acc_linear=round( clf_linear.score(test_X,test_y) * 100, 2)\n",
    "print ('score:'+str(acc_linear) + ' percent')"
   ]
  },
  {
   "cell_type": "markdown",
   "metadata": {},
   "source": [
    "# Random Forest"
   ]
  },
  {
   "cell_type": "code",
   "execution_count": 108,
   "metadata": {},
   "outputs": [],
   "source": [
    "from sklearn.ensemble import RandomForestRegressor\n",
    "from sklearn.tree import DecisionTreeRegressor"
   ]
  },
  {
   "cell_type": "code",
   "execution_count": 109,
   "metadata": {},
   "outputs": [
    {
     "name": "stdout",
     "output_type": "stream",
     "text": [
      "99.95 percent\n"
     ]
    }
   ],
   "source": [
    "clf_rf= RandomForestRegressor(n_estimators=100)\n",
    "clf_rf.fit(train_X, train_y)\n",
    "y_pred_rf= clf_rf.predict(test_X)\n",
    "acc_rf = round( clf_rf.score(test_X,test_y) * 100, 2)\n",
    "print (str(acc_rf) + ' percent')"
   ]
  },
  {
   "cell_type": "markdown",
   "metadata": {},
   "source": [
    "## Building Decision Tree Model"
   ]
  },
  {
   "cell_type": "code",
   "execution_count": 110,
   "metadata": {},
   "outputs": [],
   "source": [
    "from sklearn.tree import DecisionTreeRegressor\n",
    "from sklearn.model_selection import GridSearchCV\n",
    "from sklearn import metrics"
   ]
  },
  {
   "cell_type": "code",
   "execution_count": 111,
   "metadata": {},
   "outputs": [
    {
     "name": "stdout",
     "output_type": "stream",
     "text": [
      "99.9 percent\n"
     ]
    }
   ],
   "source": [
    "# initalizing and building the model\n",
    "clf_tree = DecisionTreeRegressor( max_depth = 6 )\n",
    "clf_tree = clf_tree.fit( train_X, train_y )\n",
    "y_pred_dt= clf_dt.predict(test_X)\n",
    "acc_dt = round( clf_dt.score(test_X, test_y) * 100, 2)\n",
    "print (str(acc_dt) + ' percent')"
   ]
  },
  {
   "cell_type": "code",
   "execution_count": 112,
   "metadata": {},
   "outputs": [],
   "source": [
    "# predicting the values\n",
    "train_y_predict = clf_tree.predict(train_X)\n",
    "test_y_predict = clf_tree.predict(test_X)"
   ]
  },
  {
   "cell_type": "code",
   "execution_count": 113,
   "metadata": {},
   "outputs": [
    {
     "name": "stdout",
     "output_type": "stream",
     "text": [
      "Train Accuracy:  0.0008\n",
      "Test Accuracy:  0.0008\n"
     ]
    }
   ],
   "source": [
    "# getting the accuracy score for the training and testing\n",
    "print('Train Accuracy: ', metrics.mean_squared_error(train_y, train_y_predict).round(4))\n",
    "print('Test Accuracy: ', metrics.mean_squared_error(test_y, test_y_predict).round(4))"
   ]
  },
  {
   "cell_type": "markdown",
   "metadata": {},
   "source": [
    "### Decision Trees shows quite low mse for Training and Testing data , therefore the model is quite accurate with minimum errors."
   ]
  },
  {
   "cell_type": "markdown",
   "metadata": {},
   "source": [
    "# Comparing Models"
   ]
  },
  {
   "cell_type": "code",
   "execution_count": 114,
   "metadata": {},
   "outputs": [
    {
     "data": {
      "text/html": [
       "<div>\n",
       "<style scoped>\n",
       "    .dataframe tbody tr th:only-of-type {\n",
       "        vertical-align: middle;\n",
       "    }\n",
       "\n",
       "    .dataframe tbody tr th {\n",
       "        vertical-align: top;\n",
       "    }\n",
       "\n",
       "    .dataframe thead th {\n",
       "        text-align: right;\n",
       "    }\n",
       "</style>\n",
       "<table border=\"1\" class=\"dataframe\">\n",
       "  <thead>\n",
       "    <tr style=\"text-align: right;\">\n",
       "      <th></th>\n",
       "      <th>Model</th>\n",
       "      <th>Score</th>\n",
       "    </tr>\n",
       "  </thead>\n",
       "  <tbody>\n",
       "    <tr>\n",
       "      <th>2</th>\n",
       "      <td>Random Forest</td>\n",
       "      <td>99.95</td>\n",
       "    </tr>\n",
       "    <tr>\n",
       "      <th>1</th>\n",
       "      <td>Decision Tree</td>\n",
       "      <td>99.90</td>\n",
       "    </tr>\n",
       "    <tr>\n",
       "      <th>0</th>\n",
       "      <td>Linear Regression</td>\n",
       "      <td>96.28</td>\n",
       "    </tr>\n",
       "  </tbody>\n",
       "</table>\n",
       "</div>"
      ],
      "text/plain": [
       "               Model  Score\n",
       "2      Random Forest  99.95\n",
       "1      Decision Tree  99.90\n",
       "0  Linear Regression  96.28"
      ]
     },
     "execution_count": 114,
     "metadata": {},
     "output_type": "execute_result"
    }
   ],
   "source": [
    "models = pd.DataFrame({\n",
    "    'Model': ['Linear Regression','Decision Tree', 'Random Forest'],\n",
    "    \n",
    "    'Score': [acc_linear,acc_dt,acc_rf]\n",
    "    })\n",
    "\n",
    "models.sort_values(by='Score', ascending=False)"
   ]
  },
  {
   "cell_type": "markdown",
   "metadata": {},
   "source": [
    "# INFERENCE"
   ]
  },
  {
   "cell_type": "markdown",
   "metadata": {},
   "source": [
    "# Since all the models are showing a pretty good score, we can opt any of the model for Data Science and visualization."
   ]
  }
 ],
 "metadata": {
  "kernelspec": {
   "display_name": "Python 3",
   "language": "python",
   "name": "python3"
  },
  "language_info": {
   "codemirror_mode": {
    "name": "ipython",
    "version": 3
   },
   "file_extension": ".py",
   "mimetype": "text/x-python",
   "name": "python",
   "nbconvert_exporter": "python",
   "pygments_lexer": "ipython3",
   "version": "3.7.3"
  }
 },
 "nbformat": 4,
 "nbformat_minor": 1
}
